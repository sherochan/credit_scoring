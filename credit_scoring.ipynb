{
 "cells": [
  {
   "cell_type": "markdown",
   "metadata": {},
   "source": [
    "- Author: Sheryl Toh \n",
    "- Email: sheryl_toh_152@outlook.com"
   ]
  },
  {
   "cell_type": "code",
   "execution_count": 1,
   "metadata": {},
   "outputs": [],
   "source": [
    "import pandas as pd \n",
    "import numpy as np\n",
    "import matplotlib.pyplot as plt \n",
    "import seaborn as sns\n",
    "%matplotlib inline"
   ]
  },
  {
   "cell_type": "code",
   "execution_count": 2,
   "metadata": {},
   "outputs": [],
   "source": [
    "from sklearn.metrics import confusion_matrix, classification_report"
   ]
  },
  {
   "cell_type": "code",
   "execution_count": 3,
   "metadata": {},
   "outputs": [],
   "source": [
    "# read in the files \n",
    "training_data = pd.read_csv(\"cs-training.csv\")"
   ]
  },
  {
   "cell_type": "code",
   "execution_count": 4,
   "metadata": {},
   "outputs": [
    {
     "name": "stdout",
     "output_type": "stream",
     "text": [
      "<class 'pandas.core.frame.DataFrame'>\n",
      "RangeIndex: 150000 entries, 0 to 149999\n",
      "Data columns (total 12 columns):\n",
      "Unnamed: 0                              150000 non-null int64\n",
      "SeriousDlqin2yrs                        150000 non-null int64\n",
      "RevolvingUtilizationOfUnsecuredLines    150000 non-null float64\n",
      "age                                     150000 non-null int64\n",
      "NumberOfTime30-59DaysPastDueNotWorse    150000 non-null int64\n",
      "DebtRatio                               150000 non-null float64\n",
      "MonthlyIncome                           120269 non-null float64\n",
      "NumberOfOpenCreditLinesAndLoans         150000 non-null int64\n",
      "NumberOfTimes90DaysLate                 150000 non-null int64\n",
      "NumberRealEstateLoansOrLines            150000 non-null int64\n",
      "NumberOfTime60-89DaysPastDueNotWorse    150000 non-null int64\n",
      "NumberOfDependents                      146076 non-null float64\n",
      "dtypes: float64(4), int64(8)\n",
      "memory usage: 13.7 MB\n"
     ]
    }
   ],
   "source": [
    "training_data.info()"
   ]
  },
  {
   "cell_type": "code",
   "execution_count": 5,
   "metadata": {},
   "outputs": [
    {
     "data": {
      "text/html": [
       "<div>\n",
       "<style scoped>\n",
       "    .dataframe tbody tr th:only-of-type {\n",
       "        vertical-align: middle;\n",
       "    }\n",
       "\n",
       "    .dataframe tbody tr th {\n",
       "        vertical-align: top;\n",
       "    }\n",
       "\n",
       "    .dataframe thead th {\n",
       "        text-align: right;\n",
       "    }\n",
       "</style>\n",
       "<table border=\"1\" class=\"dataframe\">\n",
       "  <thead>\n",
       "    <tr style=\"text-align: right;\">\n",
       "      <th></th>\n",
       "      <th>Unnamed: 0</th>\n",
       "      <th>SeriousDlqin2yrs</th>\n",
       "      <th>RevolvingUtilizationOfUnsecuredLines</th>\n",
       "      <th>age</th>\n",
       "      <th>NumberOfTime30-59DaysPastDueNotWorse</th>\n",
       "      <th>DebtRatio</th>\n",
       "      <th>MonthlyIncome</th>\n",
       "      <th>NumberOfOpenCreditLinesAndLoans</th>\n",
       "      <th>NumberOfTimes90DaysLate</th>\n",
       "      <th>NumberRealEstateLoansOrLines</th>\n",
       "      <th>NumberOfTime60-89DaysPastDueNotWorse</th>\n",
       "      <th>NumberOfDependents</th>\n",
       "    </tr>\n",
       "  </thead>\n",
       "  <tbody>\n",
       "    <tr>\n",
       "      <td>count</td>\n",
       "      <td>150000.000000</td>\n",
       "      <td>150000.000000</td>\n",
       "      <td>150000.000000</td>\n",
       "      <td>150000.000000</td>\n",
       "      <td>150000.000000</td>\n",
       "      <td>150000.000000</td>\n",
       "      <td>1.202690e+05</td>\n",
       "      <td>150000.000000</td>\n",
       "      <td>150000.000000</td>\n",
       "      <td>150000.000000</td>\n",
       "      <td>150000.000000</td>\n",
       "      <td>146076.000000</td>\n",
       "    </tr>\n",
       "    <tr>\n",
       "      <td>mean</td>\n",
       "      <td>75000.500000</td>\n",
       "      <td>0.066840</td>\n",
       "      <td>6.048438</td>\n",
       "      <td>52.295207</td>\n",
       "      <td>0.421033</td>\n",
       "      <td>353.005076</td>\n",
       "      <td>6.670221e+03</td>\n",
       "      <td>8.452760</td>\n",
       "      <td>0.265973</td>\n",
       "      <td>1.018240</td>\n",
       "      <td>0.240387</td>\n",
       "      <td>0.757222</td>\n",
       "    </tr>\n",
       "    <tr>\n",
       "      <td>std</td>\n",
       "      <td>43301.414527</td>\n",
       "      <td>0.249746</td>\n",
       "      <td>249.755371</td>\n",
       "      <td>14.771866</td>\n",
       "      <td>4.192781</td>\n",
       "      <td>2037.818523</td>\n",
       "      <td>1.438467e+04</td>\n",
       "      <td>5.145951</td>\n",
       "      <td>4.169304</td>\n",
       "      <td>1.129771</td>\n",
       "      <td>4.155179</td>\n",
       "      <td>1.115086</td>\n",
       "    </tr>\n",
       "    <tr>\n",
       "      <td>min</td>\n",
       "      <td>1.000000</td>\n",
       "      <td>0.000000</td>\n",
       "      <td>0.000000</td>\n",
       "      <td>0.000000</td>\n",
       "      <td>0.000000</td>\n",
       "      <td>0.000000</td>\n",
       "      <td>0.000000e+00</td>\n",
       "      <td>0.000000</td>\n",
       "      <td>0.000000</td>\n",
       "      <td>0.000000</td>\n",
       "      <td>0.000000</td>\n",
       "      <td>0.000000</td>\n",
       "    </tr>\n",
       "    <tr>\n",
       "      <td>25%</td>\n",
       "      <td>37500.750000</td>\n",
       "      <td>0.000000</td>\n",
       "      <td>0.029867</td>\n",
       "      <td>41.000000</td>\n",
       "      <td>0.000000</td>\n",
       "      <td>0.175074</td>\n",
       "      <td>3.400000e+03</td>\n",
       "      <td>5.000000</td>\n",
       "      <td>0.000000</td>\n",
       "      <td>0.000000</td>\n",
       "      <td>0.000000</td>\n",
       "      <td>0.000000</td>\n",
       "    </tr>\n",
       "    <tr>\n",
       "      <td>50%</td>\n",
       "      <td>75000.500000</td>\n",
       "      <td>0.000000</td>\n",
       "      <td>0.154181</td>\n",
       "      <td>52.000000</td>\n",
       "      <td>0.000000</td>\n",
       "      <td>0.366508</td>\n",
       "      <td>5.400000e+03</td>\n",
       "      <td>8.000000</td>\n",
       "      <td>0.000000</td>\n",
       "      <td>1.000000</td>\n",
       "      <td>0.000000</td>\n",
       "      <td>0.000000</td>\n",
       "    </tr>\n",
       "    <tr>\n",
       "      <td>75%</td>\n",
       "      <td>112500.250000</td>\n",
       "      <td>0.000000</td>\n",
       "      <td>0.559046</td>\n",
       "      <td>63.000000</td>\n",
       "      <td>0.000000</td>\n",
       "      <td>0.868254</td>\n",
       "      <td>8.249000e+03</td>\n",
       "      <td>11.000000</td>\n",
       "      <td>0.000000</td>\n",
       "      <td>2.000000</td>\n",
       "      <td>0.000000</td>\n",
       "      <td>1.000000</td>\n",
       "    </tr>\n",
       "    <tr>\n",
       "      <td>max</td>\n",
       "      <td>150000.000000</td>\n",
       "      <td>1.000000</td>\n",
       "      <td>50708.000000</td>\n",
       "      <td>109.000000</td>\n",
       "      <td>98.000000</td>\n",
       "      <td>329664.000000</td>\n",
       "      <td>3.008750e+06</td>\n",
       "      <td>58.000000</td>\n",
       "      <td>98.000000</td>\n",
       "      <td>54.000000</td>\n",
       "      <td>98.000000</td>\n",
       "      <td>20.000000</td>\n",
       "    </tr>\n",
       "  </tbody>\n",
       "</table>\n",
       "</div>"
      ],
      "text/plain": [
       "          Unnamed: 0  SeriousDlqin2yrs  RevolvingUtilizationOfUnsecuredLines  \\\n",
       "count  150000.000000     150000.000000                         150000.000000   \n",
       "mean    75000.500000          0.066840                              6.048438   \n",
       "std     43301.414527          0.249746                            249.755371   \n",
       "min         1.000000          0.000000                              0.000000   \n",
       "25%     37500.750000          0.000000                              0.029867   \n",
       "50%     75000.500000          0.000000                              0.154181   \n",
       "75%    112500.250000          0.000000                              0.559046   \n",
       "max    150000.000000          1.000000                          50708.000000   \n",
       "\n",
       "                 age  NumberOfTime30-59DaysPastDueNotWorse      DebtRatio  \\\n",
       "count  150000.000000                         150000.000000  150000.000000   \n",
       "mean       52.295207                              0.421033     353.005076   \n",
       "std        14.771866                              4.192781    2037.818523   \n",
       "min         0.000000                              0.000000       0.000000   \n",
       "25%        41.000000                              0.000000       0.175074   \n",
       "50%        52.000000                              0.000000       0.366508   \n",
       "75%        63.000000                              0.000000       0.868254   \n",
       "max       109.000000                             98.000000  329664.000000   \n",
       "\n",
       "       MonthlyIncome  NumberOfOpenCreditLinesAndLoans  \\\n",
       "count   1.202690e+05                    150000.000000   \n",
       "mean    6.670221e+03                         8.452760   \n",
       "std     1.438467e+04                         5.145951   \n",
       "min     0.000000e+00                         0.000000   \n",
       "25%     3.400000e+03                         5.000000   \n",
       "50%     5.400000e+03                         8.000000   \n",
       "75%     8.249000e+03                        11.000000   \n",
       "max     3.008750e+06                        58.000000   \n",
       "\n",
       "       NumberOfTimes90DaysLate  NumberRealEstateLoansOrLines  \\\n",
       "count            150000.000000                 150000.000000   \n",
       "mean                  0.265973                      1.018240   \n",
       "std                   4.169304                      1.129771   \n",
       "min                   0.000000                      0.000000   \n",
       "25%                   0.000000                      0.000000   \n",
       "50%                   0.000000                      1.000000   \n",
       "75%                   0.000000                      2.000000   \n",
       "max                  98.000000                     54.000000   \n",
       "\n",
       "       NumberOfTime60-89DaysPastDueNotWorse  NumberOfDependents  \n",
       "count                         150000.000000       146076.000000  \n",
       "mean                               0.240387            0.757222  \n",
       "std                                4.155179            1.115086  \n",
       "min                                0.000000            0.000000  \n",
       "25%                                0.000000            0.000000  \n",
       "50%                                0.000000            0.000000  \n",
       "75%                                0.000000            1.000000  \n",
       "max                               98.000000           20.000000  "
      ]
     },
     "execution_count": 5,
     "metadata": {},
     "output_type": "execute_result"
    }
   ],
   "source": [
    "#A brief understanding of the distribution of the different features \n",
    "training_data.describe()"
   ]
  },
  {
   "cell_type": "markdown",
   "metadata": {},
   "source": [
    "###### Personal observations and assumptions :\n",
    "1. SeriousDlqin2yrs  \n",
    "    - Categorical (1/0) \n",
    "    - of which 1 is an indicator of a borrower's default based on assumption that 3months of due deliquency is a long period of time for a borrower to not pay off their loan and hence is of a high risk to continue not doing so. \n",
    "2. RevolvingUtilizationOfUnsecuredLines\n",
    "    - Integer (%)\n",
    "    - a higher percentage would indicate the borrower has high credit card spendings and utilise their line of credit greatly. \n",
    "    - seems like a good indicator of default \n",
    "3. Age\n",
    "    - integer\n",
    "    - borrowers are on the average of 52 years old, probably close to retirement or at the last stage of their career path \n",
    "    - has a min of 0 years old ??? Could be due to missing age in the bank form\n",
    "4. NumberOfTime30-59DaysPastDueNotWorse\n",
    "    - integer\n",
    "    - Most borrowers do not fall under this category, with 75% quartile having 0 number of times they went 30-59 days past due \n",
    "5. DebtRatio\n",
    "    - integer (%)\n",
    "    - an indicator of whether the person is able to sustain his or her debt, alimony and living costs based on the monthly gross income \n",
    "    - higher is not a good sign \n",
    "6. MonthlyIncome\n",
    "    - real\n",
    "    - Average of $6000\n",
    "    - with extremes \n",
    "7. NumberOfOpenCreditLinesAndLoans\n",
    "    - integer\n",
    "    - on the average, ~5\n",
    "    - more would be potentially dangerous to be able to pay it off in time \n",
    "8. NumberOfTimes90DaysLate\n",
    "    - integer\n",
    "    - good indicator of risk of default \n",
    "9. NumberRealEstateLoansOrLines\n",
    "    - integer \n",
    "    - average ~1 to 2\n",
    "10. NumberOfTime60-89DaysPastDueNotWorse\n",
    "    - integer\n",
    "    - similar to column 4 (NumberOfTime30-59DaysPastDueNotWorse), except the duration is longer\n",
    "11. NumberOfDependents\n",
    "    - integer \n",
    "    - average 0 to 1 dependents \n",
    "    - more dependents could make it taxing on the borrower to pay off loans "
   ]
  },
  {
   "cell_type": "markdown",
   "metadata": {},
   "source": [
    "# EDA"
   ]
  },
  {
   "cell_type": "code",
   "execution_count": 6,
   "metadata": {},
   "outputs": [
    {
     "data": {
      "text/html": [
       "<div>\n",
       "<style scoped>\n",
       "    .dataframe tbody tr th:only-of-type {\n",
       "        vertical-align: middle;\n",
       "    }\n",
       "\n",
       "    .dataframe tbody tr th {\n",
       "        vertical-align: top;\n",
       "    }\n",
       "\n",
       "    .dataframe thead th {\n",
       "        text-align: right;\n",
       "    }\n",
       "</style>\n",
       "<table border=\"1\" class=\"dataframe\">\n",
       "  <thead>\n",
       "    <tr style=\"text-align: right;\">\n",
       "      <th></th>\n",
       "      <th>Unnamed: 0</th>\n",
       "      <th>SeriousDlqin2yrs</th>\n",
       "      <th>RevolvingUtilizationOfUnsecuredLines</th>\n",
       "      <th>age</th>\n",
       "      <th>NumberOfTime30-59DaysPastDueNotWorse</th>\n",
       "      <th>DebtRatio</th>\n",
       "      <th>MonthlyIncome</th>\n",
       "      <th>NumberOfOpenCreditLinesAndLoans</th>\n",
       "      <th>NumberOfTimes90DaysLate</th>\n",
       "      <th>NumberRealEstateLoansOrLines</th>\n",
       "      <th>NumberOfTime60-89DaysPastDueNotWorse</th>\n",
       "      <th>NumberOfDependents</th>\n",
       "    </tr>\n",
       "  </thead>\n",
       "  <tbody>\n",
       "    <tr>\n",
       "      <td>0</td>\n",
       "      <td>1</td>\n",
       "      <td>1</td>\n",
       "      <td>0.766127</td>\n",
       "      <td>45</td>\n",
       "      <td>2</td>\n",
       "      <td>0.802982</td>\n",
       "      <td>9120.0</td>\n",
       "      <td>13</td>\n",
       "      <td>0</td>\n",
       "      <td>6</td>\n",
       "      <td>0</td>\n",
       "      <td>2.0</td>\n",
       "    </tr>\n",
       "    <tr>\n",
       "      <td>1</td>\n",
       "      <td>2</td>\n",
       "      <td>0</td>\n",
       "      <td>0.957151</td>\n",
       "      <td>40</td>\n",
       "      <td>0</td>\n",
       "      <td>0.121876</td>\n",
       "      <td>2600.0</td>\n",
       "      <td>4</td>\n",
       "      <td>0</td>\n",
       "      <td>0</td>\n",
       "      <td>0</td>\n",
       "      <td>1.0</td>\n",
       "    </tr>\n",
       "    <tr>\n",
       "      <td>2</td>\n",
       "      <td>3</td>\n",
       "      <td>0</td>\n",
       "      <td>0.658180</td>\n",
       "      <td>38</td>\n",
       "      <td>1</td>\n",
       "      <td>0.085113</td>\n",
       "      <td>3042.0</td>\n",
       "      <td>2</td>\n",
       "      <td>1</td>\n",
       "      <td>0</td>\n",
       "      <td>0</td>\n",
       "      <td>0.0</td>\n",
       "    </tr>\n",
       "    <tr>\n",
       "      <td>3</td>\n",
       "      <td>4</td>\n",
       "      <td>0</td>\n",
       "      <td>0.233810</td>\n",
       "      <td>30</td>\n",
       "      <td>0</td>\n",
       "      <td>0.036050</td>\n",
       "      <td>3300.0</td>\n",
       "      <td>5</td>\n",
       "      <td>0</td>\n",
       "      <td>0</td>\n",
       "      <td>0</td>\n",
       "      <td>0.0</td>\n",
       "    </tr>\n",
       "    <tr>\n",
       "      <td>4</td>\n",
       "      <td>5</td>\n",
       "      <td>0</td>\n",
       "      <td>0.907239</td>\n",
       "      <td>49</td>\n",
       "      <td>1</td>\n",
       "      <td>0.024926</td>\n",
       "      <td>63588.0</td>\n",
       "      <td>7</td>\n",
       "      <td>0</td>\n",
       "      <td>1</td>\n",
       "      <td>0</td>\n",
       "      <td>0.0</td>\n",
       "    </tr>\n",
       "  </tbody>\n",
       "</table>\n",
       "</div>"
      ],
      "text/plain": [
       "   Unnamed: 0  SeriousDlqin2yrs  RevolvingUtilizationOfUnsecuredLines  age  \\\n",
       "0           1                 1                              0.766127   45   \n",
       "1           2                 0                              0.957151   40   \n",
       "2           3                 0                              0.658180   38   \n",
       "3           4                 0                              0.233810   30   \n",
       "4           5                 0                              0.907239   49   \n",
       "\n",
       "   NumberOfTime30-59DaysPastDueNotWorse  DebtRatio  MonthlyIncome  \\\n",
       "0                                     2   0.802982         9120.0   \n",
       "1                                     0   0.121876         2600.0   \n",
       "2                                     1   0.085113         3042.0   \n",
       "3                                     0   0.036050         3300.0   \n",
       "4                                     1   0.024926        63588.0   \n",
       "\n",
       "   NumberOfOpenCreditLinesAndLoans  NumberOfTimes90DaysLate  \\\n",
       "0                               13                        0   \n",
       "1                                4                        0   \n",
       "2                                2                        1   \n",
       "3                                5                        0   \n",
       "4                                7                        0   \n",
       "\n",
       "   NumberRealEstateLoansOrLines  NumberOfTime60-89DaysPastDueNotWorse  \\\n",
       "0                             6                                     0   \n",
       "1                             0                                     0   \n",
       "2                             0                                     0   \n",
       "3                             0                                     0   \n",
       "4                             1                                     0   \n",
       "\n",
       "   NumberOfDependents  \n",
       "0                 2.0  \n",
       "1                 1.0  \n",
       "2                 0.0  \n",
       "3                 0.0  \n",
       "4                 0.0  "
      ]
     },
     "execution_count": 6,
     "metadata": {},
     "output_type": "execute_result"
    }
   ],
   "source": [
    "training_data.head()"
   ]
  },
  {
   "cell_type": "code",
   "execution_count": 7,
   "metadata": {},
   "outputs": [
    {
     "data": {
      "text/plain": [
       "0    139974\n",
       "1     10026\n",
       "Name: SeriousDlqin2yrs, dtype: int64"
      ]
     },
     "execution_count": 7,
     "metadata": {},
     "output_type": "execute_result"
    }
   ],
   "source": [
    "training_data[\"SeriousDlqin2yrs\"].value_counts()"
   ]
  },
  {
   "cell_type": "markdown",
   "metadata": {},
   "source": [
    "#### Age"
   ]
  },
  {
   "cell_type": "code",
   "execution_count": 9,
   "metadata": {},
   "outputs": [
    {
     "data": {
      "image/png": "[encoded data removed]",
      "text/plain": [
       "<Figure size 432x288 with 1 Axes>"
      ]
     },
     "metadata": {
      "needs_background": "light"
     },
     "output_type": "display_data"
    }
   ],
   "source": [
    "age_data_lst = training_data[\"age\"].tolist()\n",
    "min_age = min(age_data_lst)\n",
    "max_age = max(age_data_lst)\n",
    "plt.hist(age_data_lst,range = (min_age, max_age), alpha = 0.75)\n",
    "plt.xlabel(\"age\")\n",
    "plt.ylabel(\"counts\")\n",
    "plt.show()"
   ]
  },
  {
   "cell_type": "markdown",
   "metadata": {},
   "source": [
    "most of the customers lies within 40 to 60 years old "
   ]
  },
  {
   "cell_type": "markdown",
   "metadata": {},
   "source": [
    "#### Income"
   ]
  },
  {
   "cell_type": "code",
   "execution_count": 10,
   "metadata": {},
   "outputs": [],
   "source": [
    "# Distribution of income for those non Na value"
   ]
  },
  {
   "cell_type": "code",
   "execution_count": 11,
   "metadata": {},
   "outputs": [],
   "source": [
    "training_data_nona = training_data[~training_data[\"MonthlyIncome\"].isna()]"
   ]
  },
  {
   "cell_type": "code",
   "execution_count": 12,
   "metadata": {},
   "outputs": [
    {
     "data": {
      "text/plain": [
       "3008750.0"
      ]
     },
     "execution_count": 12,
     "metadata": {},
     "output_type": "execute_result"
    }
   ],
   "source": [
    "max(training_data_nona[\"MonthlyIncome\"].tolist())"
   ]
  },
  {
   "cell_type": "code",
   "execution_count": 13,
   "metadata": {},
   "outputs": [
    {
     "data": {
      "text/plain": [
       "(array([4.4280e+03, 6.4590e+03, 1.2439e+04, 1.4966e+04, 1.4810e+04,\n",
       "        1.4038e+04, 1.1431e+04, 9.1200e+03, 7.4950e+03, 5.2980e+03,\n",
       "        5.5780e+03, 2.9180e+03, 2.7170e+03, 1.6520e+03, 1.2110e+03,\n",
       "        1.1790e+03, 8.2600e+02, 5.8600e+02, 5.0000e+02, 2.8900e+02,\n",
       "        4.4000e+02, 1.9300e+02, 1.7100e+02, 1.2500e+02, 9.0000e+01,\n",
       "        2.1000e+02, 6.9000e+01, 5.8000e+01, 5.9000e+01, 5.0000e+01,\n",
       "        1.0200e+02, 3.9000e+01, 3.5000e+01, 4.8000e+01, 2.4000e+01,\n",
       "        4.7000e+01, 1.5000e+01, 3.0000e+01, 1.3000e+01, 1.7000e+01,\n",
       "        5.6000e+01, 2.5000e+01, 1.7000e+01, 1.3000e+01, 1.3000e+01,\n",
       "        2.6000e+01, 5.0000e+00, 4.0000e+00, 8.0000e+00, 6.0000e+00,\n",
       "        2.5000e+01, 5.0000e+00, 8.0000e+00, 1.0000e+01, 8.0000e+00,\n",
       "        8.0000e+00, 5.0000e+00, 1.1000e+01, 1.0000e+01, 3.0000e+00,\n",
       "        1.1000e+01, 4.0000e+00, 1.4000e+01, 4.0000e+00, 3.0000e+00,\n",
       "        9.0000e+00, 7.0000e+00, 3.0000e+00, 2.0000e+00, 4.0000e+00,\n",
       "        1.0000e+01, 4.0000e+00, 4.0000e+00, 5.0000e+00, 2.0000e+00,\n",
       "        1.1000e+01, 1.0000e+00, 4.0000e+00, 6.0000e+00, 1.0000e+00,\n",
       "        7.0000e+00, 1.0000e+00, 4.0000e+00, 4.0000e+00, 1.0000e+00,\n",
       "        3.0000e+00, 2.0000e+00, 1.0000e+00, 3.0000e+00, 2.0000e+00,\n",
       "        7.0000e+00, 0.0000e+00, 0.0000e+00, 1.0000e+00, 0.0000e+00,\n",
       "        0.0000e+00, 3.0000e+00, 3.0000e+00, 0.0000e+00, 7.0000e+00]),\n",
       " array([     0.,   1000.,   2000.,   3000.,   4000.,   5000.,   6000.,\n",
       "          7000.,   8000.,   9000.,  10000.,  11000.,  12000.,  13000.,\n",
       "         14000.,  15000.,  16000.,  17000.,  18000.,  19000.,  20000.,\n",
       "         21000.,  22000.,  23000.,  24000.,  25000.,  26000.,  27000.,\n",
       "         28000.,  29000.,  30000.,  31000.,  32000.,  33000.,  34000.,\n",
       "         35000.,  36000.,  37000.,  38000.,  39000.,  40000.,  41000.,\n",
       "         42000.,  43000.,  44000.,  45000.,  46000.,  47000.,  48000.,\n",
       "         49000.,  50000.,  51000.,  52000.,  53000.,  54000.,  55000.,\n",
       "         56000.,  57000.,  58000.,  59000.,  60000.,  61000.,  62000.,\n",
       "         63000.,  64000.,  65000.,  66000.,  67000.,  68000.,  69000.,\n",
       "         70000.,  71000.,  72000.,  73000.,  74000.,  75000.,  76000.,\n",
       "         77000.,  78000.,  79000.,  80000.,  81000.,  82000.,  83000.,\n",
       "         84000.,  85000.,  86000.,  87000.,  88000.,  89000.,  90000.,\n",
       "         91000.,  92000.,  93000.,  94000.,  95000.,  96000.,  97000.,\n",
       "         98000.,  99000., 100000.]),\n",
       " <a list of 100 Patch objects>)"
      ]
     },
     "execution_count": 13,
     "metadata": {},
     "output_type": "execute_result"
    },
    {
     "data": {
      "image/png": "[encoded data removed]",
      "text/plain": [
       "<Figure size 432x288 with 1 Axes>"
      ]
     },
     "metadata": {
      "needs_background": "light"
     },
     "output_type": "display_data"
    }
   ],
   "source": [
    "plt.hist(training_data_nona[\"MonthlyIncome\"].tolist(),bins=100, range = (0,100000)) # not to use outliers "
   ]
  },
  {
   "cell_type": "code",
   "execution_count": 14,
   "metadata": {},
   "outputs": [
    {
     "data": {
      "text/plain": [
       "3008750.0"
      ]
     },
     "execution_count": 14,
     "metadata": {},
     "output_type": "execute_result"
    }
   ],
   "source": [
    "max(training_data[\"MonthlyIncome\"])"
   ]
  },
  {
   "cell_type": "markdown",
   "metadata": {},
   "source": [
    "Right skewed: Most of the monthly incomes lie between 0 and 20,000 with few outliers beyond there up to the max of $3,008,750"
   ]
  },
  {
   "cell_type": "markdown",
   "metadata": {},
   "source": [
    "###### separate the monthly income into the different quartiles and plot against y"
   ]
  },
  {
   "cell_type": "code",
   "execution_count": 15,
   "metadata": {},
   "outputs": [],
   "source": [
    "quantile_range = training_data_nona[\"MonthlyIncome\"].quantile(np.arange(4)/4)"
   ]
  },
  {
   "cell_type": "code",
   "execution_count": 16,
   "metadata": {},
   "outputs": [
    {
     "data": {
      "text/plain": [
       "0.00       0.0\n",
       "0.25    3400.0\n",
       "0.50    5400.0\n",
       "0.75    8249.0\n",
       "Name: MonthlyIncome, dtype: float64"
      ]
     },
     "execution_count": 16,
     "metadata": {},
     "output_type": "execute_result"
    }
   ],
   "source": [
    "quantile_range"
   ]
  },
  {
   "cell_type": "code",
   "execution_count": 17,
   "metadata": {},
   "outputs": [
    {
     "name": "stderr",
     "output_type": "stream",
     "text": [
      "/Users/shetoh/PythonDev/pythonML/lib/python3.7/site-packages/ipykernel_launcher.py:2: SettingWithCopyWarning: \n",
      "A value is trying to be set on a copy of a slice from a DataFrame.\n",
      "Try using .loc[row_indexer,col_indexer] = value instead\n",
      "\n",
      "See the caveats in the documentation: http://pandas.pydata.org/pandas-docs/stable/user_guide/indexing.html#returning-a-view-versus-a-copy\n",
      "  \n"
     ]
    }
   ],
   "source": [
    "training_data_nona[\"incomeQuantile\"] = training_data_nona['MonthlyIncome'].apply(\n",
    "    lambda x: quantile_range.index[np.searchsorted(quantile_range, x, side=\"right\") - 1])"
   ]
  },
  {
   "cell_type": "code",
   "execution_count": 18,
   "metadata": {},
   "outputs": [],
   "source": [
    "qr_df = pd.DataFrame(training_data_nona.groupby(by = \"incomeQuantile\")[\"SeriousDlqin2yrs\"].apply(list)).reset_index()"
   ]
  },
  {
   "cell_type": "code",
   "execution_count": 19,
   "metadata": {},
   "outputs": [],
   "source": [
    "qr_df[\"qr_dlqCount\"] = qr_df[\"SeriousDlqin2yrs\"].apply(lambda x: len([i for i in x if i ==1]))\n",
    "qr_df[\"qr_nodlqCount\"] = qr_df[\"SeriousDlqin2yrs\"].apply(lambda x: len([i for i in x if i ==0]))"
   ]
  },
  {
   "cell_type": "code",
   "execution_count": 20,
   "metadata": {},
   "outputs": [
    {
     "data": {
      "text/html": [
       "<div>\n",
       "<style scoped>\n",
       "    .dataframe tbody tr th:only-of-type {\n",
       "        vertical-align: middle;\n",
       "    }\n",
       "\n",
       "    .dataframe tbody tr th {\n",
       "        vertical-align: top;\n",
       "    }\n",
       "\n",
       "    .dataframe thead th {\n",
       "        text-align: right;\n",
       "    }\n",
       "</style>\n",
       "<table border=\"1\" class=\"dataframe\">\n",
       "  <thead>\n",
       "    <tr style=\"text-align: right;\">\n",
       "      <th></th>\n",
       "      <th>incomeQuantile</th>\n",
       "      <th>SeriousDlqin2yrs</th>\n",
       "      <th>qr_dlqCount</th>\n",
       "      <th>qr_nodlqCount</th>\n",
       "    </tr>\n",
       "  </thead>\n",
       "  <tbody>\n",
       "    <tr>\n",
       "      <td>0</td>\n",
       "      <td>0.00</td>\n",
       "      <td>[0, 0, 0, 0, 0, 0, 0, 1, 0, 0, 0, 0, 0, 0, 0, ...</td>\n",
       "      <td>2748</td>\n",
       "      <td>27119</td>\n",
       "    </tr>\n",
       "    <tr>\n",
       "      <td>1</td>\n",
       "      <td>0.25</td>\n",
       "      <td>[0, 0, 1, 0, 0, 0, 0, 0, 0, 0, 0, 0, 0, 0, 0, ...</td>\n",
       "      <td>2381</td>\n",
       "      <td>27736</td>\n",
       "    </tr>\n",
       "    <tr>\n",
       "      <td>2</td>\n",
       "      <td>0.50</td>\n",
       "      <td>[0, 0, 0, 0, 0, 0, 0, 0, 0, 0, 0, 0, 0, 0, 0, ...</td>\n",
       "      <td>1837</td>\n",
       "      <td>28376</td>\n",
       "    </tr>\n",
       "    <tr>\n",
       "      <td>3</td>\n",
       "      <td>0.75</td>\n",
       "      <td>[1, 0, 0, 0, 1, 0, 0, 0, 0, 0, 0, 0, 0, 0, 0, ...</td>\n",
       "      <td>1391</td>\n",
       "      <td>28681</td>\n",
       "    </tr>\n",
       "  </tbody>\n",
       "</table>\n",
       "</div>"
      ],
      "text/plain": [
       "   incomeQuantile                                   SeriousDlqin2yrs  \\\n",
       "0            0.00  [0, 0, 0, 0, 0, 0, 0, 1, 0, 0, 0, 0, 0, 0, 0, ...   \n",
       "1            0.25  [0, 0, 1, 0, 0, 0, 0, 0, 0, 0, 0, 0, 0, 0, 0, ...   \n",
       "2            0.50  [0, 0, 0, 0, 0, 0, 0, 0, 0, 0, 0, 0, 0, 0, 0, ...   \n",
       "3            0.75  [1, 0, 0, 0, 1, 0, 0, 0, 0, 0, 0, 0, 0, 0, 0, ...   \n",
       "\n",
       "   qr_dlqCount  qr_nodlqCount  \n",
       "0         2748          27119  \n",
       "1         2381          27736  \n",
       "2         1837          28376  \n",
       "3         1391          28681  "
      ]
     },
     "execution_count": 20,
     "metadata": {},
     "output_type": "execute_result"
    }
   ],
   "source": [
    "qr_df"
   ]
  },
  {
   "cell_type": "code",
   "execution_count": 21,
   "metadata": {},
   "outputs": [
    {
     "data": {
      "image/png": "[encoded data removed]",
      "text/plain": [
       "<Figure size 1440x720 with 1 Axes>"
      ]
     },
     "metadata": {
      "needs_background": "light"
     },
     "output_type": "display_data"
    }
   ],
   "source": [
    "ax = qr_df.plot.bar(x = \"incomeQuantile\", y= [\"qr_dlqCount\", \"qr_nodlqCount\"] , figsize=(20,10))\n",
    "for p in ax.patches:\n",
    "    ax.annotate(str(p.get_height()), (p.get_x() * 1.005, p.get_height() * 1.005))"
   ]
  },
  {
   "cell_type": "code",
   "execution_count": 22,
   "metadata": {},
   "outputs": [],
   "source": [
    "#calculate percentage\n",
    "qr_df[\"percentage_deliquentCount\"] = qr_df.apply(\n",
    "    lambda x : round(100* x[\"qr_dlqCount\"]/(x[\"qr_dlqCount\"] + x[\"qr_nodlqCount\"]),2), axis = 1)"
   ]
  },
  {
   "cell_type": "code",
   "execution_count": 23,
   "metadata": {},
   "outputs": [
    {
     "data": {
      "image/png": "[encoded data removed]",
      "text/plain": [
       "<Figure size 1440x720 with 1 Axes>"
      ]
     },
     "metadata": {
      "needs_background": "light"
     },
     "output_type": "display_data"
    }
   ],
   "source": [
    "ax = qr_df.plot.bar(x= \"incomeQuantile\", y=\"percentage_deliquentCount\", figsize=(20,10))\n",
    "for p in ax.patches:\n",
    "    ax.annotate(\"{}%\".format(str(p.get_height())), (p.get_x() * 1.005, p.get_height() * 1.005))"
   ]
  },
  {
   "cell_type": "markdown",
   "metadata": {},
   "source": [
    "There is a higher percentage of borrowers within the lower quantile of monthly incomes ( below 50th percentile ) who is more likely to default\n",
    "\n",
    "- lower income would mean higher instability to pay off any sudden huge loans , more likely to default "
   ]
  },
  {
   "cell_type": "markdown",
   "metadata": {},
   "source": [
    "#### Number of Dependents"
   ]
  },
  {
   "cell_type": "code",
   "execution_count": 24,
   "metadata": {},
   "outputs": [],
   "source": [
    "# remove na value \n",
    "training_data_numDep_noNa = training_data[~training_data[\"NumberOfDependents\"].isna()]"
   ]
  },
  {
   "cell_type": "code",
   "execution_count": 25,
   "metadata": {},
   "outputs": [
    {
     "data": {
      "text/html": [
       "<div>\n",
       "<style scoped>\n",
       "    .dataframe tbody tr th:only-of-type {\n",
       "        vertical-align: middle;\n",
       "    }\n",
       "\n",
       "    .dataframe tbody tr th {\n",
       "        vertical-align: top;\n",
       "    }\n",
       "\n",
       "    .dataframe thead th {\n",
       "        text-align: right;\n",
       "    }\n",
       "</style>\n",
       "<table border=\"1\" class=\"dataframe\">\n",
       "  <thead>\n",
       "    <tr style=\"text-align: right;\">\n",
       "      <th></th>\n",
       "      <th>Number of Dependents</th>\n",
       "      <th>Counts</th>\n",
       "    </tr>\n",
       "  </thead>\n",
       "  <tbody>\n",
       "    <tr>\n",
       "      <td>0</td>\n",
       "      <td>0</td>\n",
       "      <td>86902</td>\n",
       "    </tr>\n",
       "    <tr>\n",
       "      <td>1</td>\n",
       "      <td>1</td>\n",
       "      <td>26316</td>\n",
       "    </tr>\n",
       "    <tr>\n",
       "      <td>2</td>\n",
       "      <td>2</td>\n",
       "      <td>19522</td>\n",
       "    </tr>\n",
       "    <tr>\n",
       "      <td>3</td>\n",
       "      <td>3</td>\n",
       "      <td>9483</td>\n",
       "    </tr>\n",
       "    <tr>\n",
       "      <td>4</td>\n",
       "      <td>4</td>\n",
       "      <td>2862</td>\n",
       "    </tr>\n",
       "    <tr>\n",
       "      <td>5</td>\n",
       "      <td>5</td>\n",
       "      <td>746</td>\n",
       "    </tr>\n",
       "    <tr>\n",
       "      <td>6</td>\n",
       "      <td>6</td>\n",
       "      <td>158</td>\n",
       "    </tr>\n",
       "    <tr>\n",
       "      <td>7</td>\n",
       "      <td>7</td>\n",
       "      <td>51</td>\n",
       "    </tr>\n",
       "    <tr>\n",
       "      <td>8</td>\n",
       "      <td>8</td>\n",
       "      <td>24</td>\n",
       "    </tr>\n",
       "    <tr>\n",
       "      <td>9</td>\n",
       "      <td>10</td>\n",
       "      <td>5</td>\n",
       "    </tr>\n",
       "    <tr>\n",
       "      <td>10</td>\n",
       "      <td>9</td>\n",
       "      <td>5</td>\n",
       "    </tr>\n",
       "    <tr>\n",
       "      <td>11</td>\n",
       "      <td>20</td>\n",
       "      <td>1</td>\n",
       "    </tr>\n",
       "    <tr>\n",
       "      <td>12</td>\n",
       "      <td>13</td>\n",
       "      <td>1</td>\n",
       "    </tr>\n",
       "  </tbody>\n",
       "</table>\n",
       "</div>"
      ],
      "text/plain": [
       "    Number of Dependents  Counts\n",
       "0                      0   86902\n",
       "1                      1   26316\n",
       "2                      2   19522\n",
       "3                      3    9483\n",
       "4                      4    2862\n",
       "5                      5     746\n",
       "6                      6     158\n",
       "7                      7      51\n",
       "8                      8      24\n",
       "9                     10       5\n",
       "10                     9       5\n",
       "11                    20       1\n",
       "12                    13       1"
      ]
     },
     "execution_count": 25,
     "metadata": {},
     "output_type": "execute_result"
    }
   ],
   "source": [
    "numDependentsCounts_df = pd.DataFrame(training_data_numDep_noNa[\"NumberOfDependents\"].astype(int).value_counts()).reset_index()\n",
    "numDependentsCounts_df.columns = [\"Number of Dependents\", \"Counts\"]\n",
    "numDependentsCounts_df"
   ]
  },
  {
   "cell_type": "markdown",
   "metadata": {},
   "source": [
    "Majority of the borrowers either have no dependents or 1 dependent with a few extremes of have > 10 dependents"
   ]
  },
  {
   "cell_type": "code",
   "execution_count": 26,
   "metadata": {},
   "outputs": [
    {
     "data": {
      "text/plain": [
       "Index(['Unnamed: 0', 'SeriousDlqin2yrs',\n",
       "       'RevolvingUtilizationOfUnsecuredLines', 'age',\n",
       "       'NumberOfTime30-59DaysPastDueNotWorse', 'DebtRatio', 'MonthlyIncome',\n",
       "       'NumberOfOpenCreditLinesAndLoans', 'NumberOfTimes90DaysLate',\n",
       "       'NumberRealEstateLoansOrLines', 'NumberOfTime60-89DaysPastDueNotWorse',\n",
       "       'NumberOfDependents'],\n",
       "      dtype='object')"
      ]
     },
     "execution_count": 26,
     "metadata": {},
     "output_type": "execute_result"
    }
   ],
   "source": [
    "training_data_numDep_noNa.columns"
   ]
  },
  {
   "cell_type": "code",
   "execution_count": 27,
   "metadata": {},
   "outputs": [],
   "source": [
    "num_dep_dlq_df = training_data_numDep_noNa.groupby(\"NumberOfDependents\").agg({\"SeriousDlqin2yrs\": list}).reset_index()"
   ]
  },
  {
   "cell_type": "code",
   "execution_count": 28,
   "metadata": {},
   "outputs": [],
   "source": [
    "num_dep_dlq_df[\"deliquentCount\"] = num_dep_dlq_df[\"SeriousDlqin2yrs\"].apply(lambda x: len([i for i in x if i ==1]))\n",
    "num_dep_dlq_df[\"noDeliquentCount\"] = num_dep_dlq_df[\"SeriousDlqin2yrs\"].apply(lambda x: len([i for i in x if i ==0]))"
   ]
  },
  {
   "cell_type": "code",
   "execution_count": 29,
   "metadata": {},
   "outputs": [
    {
     "data": {
      "text/html": [
       "<div>\n",
       "<style scoped>\n",
       "    .dataframe tbody tr th:only-of-type {\n",
       "        vertical-align: middle;\n",
       "    }\n",
       "\n",
       "    .dataframe tbody tr th {\n",
       "        vertical-align: top;\n",
       "    }\n",
       "\n",
       "    .dataframe thead th {\n",
       "        text-align: right;\n",
       "    }\n",
       "</style>\n",
       "<table border=\"1\" class=\"dataframe\">\n",
       "  <thead>\n",
       "    <tr style=\"text-align: right;\">\n",
       "      <th></th>\n",
       "      <th>NumberOfDependents</th>\n",
       "      <th>SeriousDlqin2yrs</th>\n",
       "      <th>deliquentCount</th>\n",
       "      <th>noDeliquentCount</th>\n",
       "    </tr>\n",
       "  </thead>\n",
       "  <tbody>\n",
       "    <tr>\n",
       "      <td>0</td>\n",
       "      <td>0.0</td>\n",
       "      <td>[0, 0, 0, 0, 0, 0, 0, 0, 0, 0, 0, 0, 0, 0, 0, ...</td>\n",
       "      <td>5095</td>\n",
       "      <td>81807</td>\n",
       "    </tr>\n",
       "    <tr>\n",
       "      <td>1</td>\n",
       "      <td>1.0</td>\n",
       "      <td>[0, 0, 1, 0, 0, 0, 0, 0, 1, 0, 0, 0, 0, 0, 0, ...</td>\n",
       "      <td>1935</td>\n",
       "      <td>24381</td>\n",
       "    </tr>\n",
       "    <tr>\n",
       "      <td>2</td>\n",
       "      <td>2.0</td>\n",
       "      <td>[1, 0, 0, 0, 1, 0, 0, 1, 0, 0, 0, 0, 0, 0, 0, ...</td>\n",
       "      <td>1584</td>\n",
       "      <td>17938</td>\n",
       "    </tr>\n",
       "    <tr>\n",
       "      <td>3</td>\n",
       "      <td>3.0</td>\n",
       "      <td>[0, 1, 0, 0, 0, 0, 0, 0, 0, 0, 0, 0, 0, 0, 0, ...</td>\n",
       "      <td>837</td>\n",
       "      <td>8646</td>\n",
       "    </tr>\n",
       "    <tr>\n",
       "      <td>4</td>\n",
       "      <td>4.0</td>\n",
       "      <td>[0, 0, 0, 0, 0, 0, 0, 0, 0, 0, 0, 0, 0, 0, 1, ...</td>\n",
       "      <td>297</td>\n",
       "      <td>2565</td>\n",
       "    </tr>\n",
       "    <tr>\n",
       "      <td>5</td>\n",
       "      <td>5.0</td>\n",
       "      <td>[0, 0, 0, 0, 0, 0, 0, 0, 0, 0, 0, 0, 0, 0, 0, ...</td>\n",
       "      <td>68</td>\n",
       "      <td>678</td>\n",
       "    </tr>\n",
       "    <tr>\n",
       "      <td>6</td>\n",
       "      <td>6.0</td>\n",
       "      <td>[0, 0, 0, 0, 0, 1, 0, 0, 0, 0, 0, 1, 0, 0, 0, ...</td>\n",
       "      <td>24</td>\n",
       "      <td>134</td>\n",
       "    </tr>\n",
       "    <tr>\n",
       "      <td>7</td>\n",
       "      <td>7.0</td>\n",
       "      <td>[1, 0, 0, 0, 0, 0, 0, 0, 0, 0, 0, 0, 0, 1, 0, ...</td>\n",
       "      <td>5</td>\n",
       "      <td>46</td>\n",
       "    </tr>\n",
       "    <tr>\n",
       "      <td>8</td>\n",
       "      <td>8.0</td>\n",
       "      <td>[0, 0, 0, 1, 0, 0, 0, 0, 0, 0, 0, 0, 0, 0, 0, ...</td>\n",
       "      <td>2</td>\n",
       "      <td>22</td>\n",
       "    </tr>\n",
       "    <tr>\n",
       "      <td>9</td>\n",
       "      <td>9.0</td>\n",
       "      <td>[0, 0, 0, 0, 0]</td>\n",
       "      <td>0</td>\n",
       "      <td>5</td>\n",
       "    </tr>\n",
       "    <tr>\n",
       "      <td>10</td>\n",
       "      <td>10.0</td>\n",
       "      <td>[0, 0, 0, 0, 0]</td>\n",
       "      <td>0</td>\n",
       "      <td>5</td>\n",
       "    </tr>\n",
       "    <tr>\n",
       "      <td>11</td>\n",
       "      <td>13.0</td>\n",
       "      <td>[0]</td>\n",
       "      <td>0</td>\n",
       "      <td>1</td>\n",
       "    </tr>\n",
       "    <tr>\n",
       "      <td>12</td>\n",
       "      <td>20.0</td>\n",
       "      <td>[0]</td>\n",
       "      <td>0</td>\n",
       "      <td>1</td>\n",
       "    </tr>\n",
       "  </tbody>\n",
       "</table>\n",
       "</div>"
      ],
      "text/plain": [
       "    NumberOfDependents                                   SeriousDlqin2yrs  \\\n",
       "0                  0.0  [0, 0, 0, 0, 0, 0, 0, 0, 0, 0, 0, 0, 0, 0, 0, ...   \n",
       "1                  1.0  [0, 0, 1, 0, 0, 0, 0, 0, 1, 0, 0, 0, 0, 0, 0, ...   \n",
       "2                  2.0  [1, 0, 0, 0, 1, 0, 0, 1, 0, 0, 0, 0, 0, 0, 0, ...   \n",
       "3                  3.0  [0, 1, 0, 0, 0, 0, 0, 0, 0, 0, 0, 0, 0, 0, 0, ...   \n",
       "4                  4.0  [0, 0, 0, 0, 0, 0, 0, 0, 0, 0, 0, 0, 0, 0, 1, ...   \n",
       "5                  5.0  [0, 0, 0, 0, 0, 0, 0, 0, 0, 0, 0, 0, 0, 0, 0, ...   \n",
       "6                  6.0  [0, 0, 0, 0, 0, 1, 0, 0, 0, 0, 0, 1, 0, 0, 0, ...   \n",
       "7                  7.0  [1, 0, 0, 0, 0, 0, 0, 0, 0, 0, 0, 0, 0, 1, 0, ...   \n",
       "8                  8.0  [0, 0, 0, 1, 0, 0, 0, 0, 0, 0, 0, 0, 0, 0, 0, ...   \n",
       "9                  9.0                                    [0, 0, 0, 0, 0]   \n",
       "10                10.0                                    [0, 0, 0, 0, 0]   \n",
       "11                13.0                                                [0]   \n",
       "12                20.0                                                [0]   \n",
       "\n",
       "    deliquentCount  noDeliquentCount  \n",
       "0             5095             81807  \n",
       "1             1935             24381  \n",
       "2             1584             17938  \n",
       "3              837              8646  \n",
       "4              297              2565  \n",
       "5               68               678  \n",
       "6               24               134  \n",
       "7                5                46  \n",
       "8                2                22  \n",
       "9                0                 5  \n",
       "10               0                 5  \n",
       "11               0                 1  \n",
       "12               0                 1  "
      ]
     },
     "execution_count": 29,
     "metadata": {},
     "output_type": "execute_result"
    }
   ],
   "source": [
    "num_dep_dlq_df"
   ]
  },
  {
   "cell_type": "code",
   "execution_count": 30,
   "metadata": {},
   "outputs": [
    {
     "data": {
      "image/png": "[encoded data removed]",
      "text/plain": [
       "<Figure size 1440x720 with 1 Axes>"
      ]
     },
     "metadata": {
      "needs_background": "light"
     },
     "output_type": "display_data"
    }
   ],
   "source": [
    "ax = num_dep_dlq_df.plot.bar(x = \"NumberOfDependents\", y= [\"deliquentCount\", \"noDeliquentCount\"] , figsize=(20,10))\n",
    "for p in ax.patches:\n",
    "    ax.annotate(str(p.get_height()), (p.get_x() * 1.005, p.get_height() * 1.005))"
   ]
  },
  {
   "cell_type": "code",
   "execution_count": 31,
   "metadata": {},
   "outputs": [],
   "source": [
    "#calculate percentage\n",
    "num_dep_dlq_df[\"percentage_deliquentCount\"] = num_dep_dlq_df.apply(\n",
    "    lambda x : round(100* x[\"deliquentCount\"]/(x[\"deliquentCount\"] + x[\"noDeliquentCount\"]),2), axis = 1)"
   ]
  },
  {
   "cell_type": "code",
   "execution_count": 32,
   "metadata": {},
   "outputs": [
    {
     "data": {
      "image/png": "[encoded data removed]",
      "text/plain": [
       "<Figure size 1440x720 with 1 Axes>"
      ]
     },
     "metadata": {
      "needs_background": "light"
     },
     "output_type": "display_data"
    }
   ],
   "source": [
    "ax = num_dep_dlq_df.plot.bar(x= \"NumberOfDependents\", y=\"percentage_deliquentCount\", figsize=(20,10))\n",
    "for p in ax.patches:\n",
    "    ax.annotate(\"{}%\".format(str(p.get_height())), (p.get_x() * 1.005, p.get_height() * 1.005))"
   ]
  },
  {
   "cell_type": "markdown",
   "metadata": {},
   "source": [
    "Interesting to note that those with alot more dependents (>9) are less likely to default.\n",
    "\n",
    "- most likely due to the small sample of borrowers in that group too and that those who default constitute a small percentage of the general population\n",
    "\n",
    "A higher percentage of people who default has number of dependents at ~4-6. \n",
    "- Having more people to feed and pay bills for , could be a reason the borrower could not pay his loans on time "
   ]
  },
  {
   "cell_type": "markdown",
   "metadata": {},
   "source": [
    "##### Correlation Matrix"
   ]
  },
  {
   "cell_type": "code",
   "execution_count": 33,
   "metadata": {},
   "outputs": [
    {
     "data": {
      "text/plain": [
       "Index(['Unnamed: 0', 'SeriousDlqin2yrs',\n",
       "       'RevolvingUtilizationOfUnsecuredLines', 'age',\n",
       "       'NumberOfTime30-59DaysPastDueNotWorse', 'DebtRatio', 'MonthlyIncome',\n",
       "       'NumberOfOpenCreditLinesAndLoans', 'NumberOfTimes90DaysLate',\n",
       "       'NumberRealEstateLoansOrLines', 'NumberOfTime60-89DaysPastDueNotWorse',\n",
       "       'NumberOfDependents'],\n",
       "      dtype='object')"
      ]
     },
     "execution_count": 33,
     "metadata": {},
     "output_type": "execute_result"
    }
   ],
   "source": [
    "training_data.columns"
   ]
  },
  {
   "cell_type": "code",
   "execution_count": 34,
   "metadata": {},
   "outputs": [],
   "source": [
    "corr_df = training_data[['SeriousDlqin2yrs',\n",
    "           'RevolvingUtilizationOfUnsecuredLines', 'age',\n",
    "           'NumberOfTime30-59DaysPastDueNotWorse', 'DebtRatio', 'MonthlyIncome',\n",
    "           'NumberOfOpenCreditLinesAndLoans', 'NumberOfTimes90DaysLate',\n",
    "           'NumberRealEstateLoansOrLines', 'NumberOfTime60-89DaysPastDueNotWorse',\n",
    "           'NumberOfDependents']].corr()"
   ]
  },
  {
   "cell_type": "code",
   "execution_count": 35,
   "metadata": {},
   "outputs": [
    {
     "data": {
      "text/html": [
       "<style  type=\"text/css\" >\n",
       "    #T_15870412_167c_11eb_a26f_8c8590a7200arow0_col0 {\n",
       "            background-color:  #b40426;\n",
       "            color:  #f1f1f1;\n",
       "        }    #T_15870412_167c_11eb_a26f_8c8590a7200arow0_col1 {\n",
       "            background-color:  #3d50c3;\n",
       "            color:  #f1f1f1;\n",
       "        }    #T_15870412_167c_11eb_a26f_8c8590a7200arow0_col2 {\n",
       "            background-color:  #536edd;\n",
       "            color:  #000000;\n",
       "        }    #T_15870412_167c_11eb_a26f_8c8590a7200arow0_col3 {\n",
       "            background-color:  #7396f5;\n",
       "            color:  #000000;\n",
       "        }    #T_15870412_167c_11eb_a26f_8c8590a7200arow0_col4 {\n",
       "            background-color:  #445acc;\n",
       "            color:  #f1f1f1;\n",
       "        }    #T_15870412_167c_11eb_a26f_8c8590a7200arow0_col5 {\n",
       "            background-color:  #3d50c3;\n",
       "            color:  #f1f1f1;\n",
       "        }    #T_15870412_167c_11eb_a26f_8c8590a7200arow0_col6 {\n",
       "            background-color:  #485fd1;\n",
       "            color:  #f1f1f1;\n",
       "        }    #T_15870412_167c_11eb_a26f_8c8590a7200arow0_col7 {\n",
       "            background-color:  #7597f6;\n",
       "            color:  #000000;\n",
       "        }    #T_15870412_167c_11eb_a26f_8c8590a7200arow0_col8 {\n",
       "            background-color:  #455cce;\n",
       "            color:  #f1f1f1;\n",
       "        }    #T_15870412_167c_11eb_a26f_8c8590a7200arow0_col9 {\n",
       "            background-color:  #6e90f2;\n",
       "            color:  #000000;\n",
       "        }    #T_15870412_167c_11eb_a26f_8c8590a7200arow0_col10 {\n",
       "            background-color:  #80a3fa;\n",
       "            color:  #000000;\n",
       "        }    #T_15870412_167c_11eb_a26f_8c8590a7200arow1_col0 {\n",
       "            background-color:  #5a78e4;\n",
       "            color:  #000000;\n",
       "        }    #T_15870412_167c_11eb_a26f_8c8590a7200arow1_col1 {\n",
       "            background-color:  #b40426;\n",
       "            color:  #f1f1f1;\n",
       "        }    #T_15870412_167c_11eb_a26f_8c8590a7200arow1_col2 {\n",
       "            background-color:  #7093f3;\n",
       "            color:  #000000;\n",
       "        }    #T_15870412_167c_11eb_a26f_8c8590a7200arow1_col3 {\n",
       "            background-color:  #4b64d5;\n",
       "            color:  #f1f1f1;\n",
       "        }    #T_15870412_167c_11eb_a26f_8c8590a7200arow1_col4 {\n",
       "            background-color:  #465ecf;\n",
       "            color:  #f1f1f1;\n",
       "        }    #T_15870412_167c_11eb_a26f_8c8590a7200arow1_col5 {\n",
       "            background-color:  #445acc;\n",
       "            color:  #f1f1f1;\n",
       "        }    #T_15870412_167c_11eb_a26f_8c8590a7200arow1_col6 {\n",
       "            background-color:  #4e68d8;\n",
       "            color:  #000000;\n",
       "        }    #T_15870412_167c_11eb_a26f_8c8590a7200arow1_col7 {\n",
       "            background-color:  #506bda;\n",
       "            color:  #000000;\n",
       "        }    #T_15870412_167c_11eb_a26f_8c8590a7200arow1_col8 {\n",
       "            background-color:  #4961d2;\n",
       "            color:  #f1f1f1;\n",
       "        }    #T_15870412_167c_11eb_a26f_8c8590a7200arow1_col9 {\n",
       "            background-color:  #4e68d8;\n",
       "            color:  #000000;\n",
       "        }    #T_15870412_167c_11eb_a26f_8c8590a7200arow1_col10 {\n",
       "            background-color:  #7396f5;\n",
       "            color:  #000000;\n",
       "        }    #T_15870412_167c_11eb_a26f_8c8590a7200arow2_col0 {\n",
       "            background-color:  #3b4cc0;\n",
       "            color:  #f1f1f1;\n",
       "        }    #T_15870412_167c_11eb_a26f_8c8590a7200arow2_col1 {\n",
       "            background-color:  #3c4ec2;\n",
       "            color:  #f1f1f1;\n",
       "        }    #T_15870412_167c_11eb_a26f_8c8590a7200arow2_col2 {\n",
       "            background-color:  #b40426;\n",
       "            color:  #f1f1f1;\n",
       "        }    #T_15870412_167c_11eb_a26f_8c8590a7200arow2_col3 {\n",
       "            background-color:  #3b4cc0;\n",
       "            color:  #f1f1f1;\n",
       "        }    #T_15870412_167c_11eb_a26f_8c8590a7200arow2_col4 {\n",
       "            background-color:  #4c66d6;\n",
       "            color:  #000000;\n",
       "        }    #T_15870412_167c_11eb_a26f_8c8590a7200arow2_col5 {\n",
       "            background-color:  #4e68d8;\n",
       "            color:  #000000;\n",
       "        }    #T_15870412_167c_11eb_a26f_8c8590a7200arow2_col6 {\n",
       "            background-color:  #7ea1fa;\n",
       "            color:  #000000;\n",
       "        }    #T_15870412_167c_11eb_a26f_8c8590a7200arow2_col7 {\n",
       "            background-color:  #3f53c6;\n",
       "            color:  #f1f1f1;\n",
       "        }    #T_15870412_167c_11eb_a26f_8c8590a7200arow2_col8 {\n",
       "            background-color:  #516ddb;\n",
       "            color:  #000000;\n",
       "        }    #T_15870412_167c_11eb_a26f_8c8590a7200arow2_col9 {\n",
       "            background-color:  #3e51c5;\n",
       "            color:  #f1f1f1;\n",
       "        }    #T_15870412_167c_11eb_a26f_8c8590a7200arow2_col10 {\n",
       "            background-color:  #3b4cc0;\n",
       "            color:  #f1f1f1;\n",
       "        }    #T_15870412_167c_11eb_a26f_8c8590a7200arow3_col0 {\n",
       "            background-color:  #81a4fb;\n",
       "            color:  #000000;\n",
       "        }    #T_15870412_167c_11eb_a26f_8c8590a7200arow3_col1 {\n",
       "            background-color:  #3d50c3;\n",
       "            color:  #f1f1f1;\n",
       "        }    #T_15870412_167c_11eb_a26f_8c8590a7200arow3_col2 {\n",
       "            background-color:  #6180e9;\n",
       "            color:  #000000;\n",
       "        }    #T_15870412_167c_11eb_a26f_8c8590a7200arow3_col3 {\n",
       "            background-color:  #b40426;\n",
       "            color:  #f1f1f1;\n",
       "        }    #T_15870412_167c_11eb_a26f_8c8590a7200arow3_col4 {\n",
       "            background-color:  #445acc;\n",
       "            color:  #f1f1f1;\n",
       "        }    #T_15870412_167c_11eb_a26f_8c8590a7200arow3_col5 {\n",
       "            background-color:  #3f53c6;\n",
       "            color:  #f1f1f1;\n",
       "        }    #T_15870412_167c_11eb_a26f_8c8590a7200arow3_col6 {\n",
       "            background-color:  #4055c8;\n",
       "            color:  #f1f1f1;\n",
       "        }    #T_15870412_167c_11eb_a26f_8c8590a7200arow3_col7 {\n",
       "            background-color:  #b8122a;\n",
       "            color:  #f1f1f1;\n",
       "        }    #T_15870412_167c_11eb_a26f_8c8590a7200arow3_col8 {\n",
       "            background-color:  #3e51c5;\n",
       "            color:  #f1f1f1;\n",
       "        }    #T_15870412_167c_11eb_a26f_8c8590a7200arow3_col9 {\n",
       "            background-color:  #b8122a;\n",
       "            color:  #f1f1f1;\n",
       "        }    #T_15870412_167c_11eb_a26f_8c8590a7200arow3_col10 {\n",
       "            background-color:  #7295f4;\n",
       "            color:  #000000;\n",
       "        }    #T_15870412_167c_11eb_a26f_8c8590a7200arow4_col0 {\n",
       "            background-color:  #5875e1;\n",
       "            color:  #000000;\n",
       "        }    #T_15870412_167c_11eb_a26f_8c8590a7200arow4_col1 {\n",
       "            background-color:  #3e51c5;\n",
       "            color:  #f1f1f1;\n",
       "        }    #T_15870412_167c_11eb_a26f_8c8590a7200arow4_col2 {\n",
       "            background-color:  #7a9df8;\n",
       "            color:  #000000;\n",
       "        }    #T_15870412_167c_11eb_a26f_8c8590a7200arow4_col3 {\n",
       "            background-color:  #4a63d3;\n",
       "            color:  #f1f1f1;\n",
       "        }    #T_15870412_167c_11eb_a26f_8c8590a7200arow4_col4 {\n",
       "            background-color:  #b40426;\n",
       "            color:  #f1f1f1;\n",
       "        }    #T_15870412_167c_11eb_a26f_8c8590a7200arow4_col5 {\n",
       "            background-color:  #3b4cc0;\n",
       "            color:  #f1f1f1;\n",
       "        }    #T_15870412_167c_11eb_a26f_8c8590a7200arow4_col6 {\n",
       "            background-color:  #5f7fe8;\n",
       "            color:  #000000;\n",
       "        }    #T_15870412_167c_11eb_a26f_8c8590a7200arow4_col7 {\n",
       "            background-color:  #4e68d8;\n",
       "            color:  #000000;\n",
       "        }    #T_15870412_167c_11eb_a26f_8c8590a7200arow4_col8 {\n",
       "            background-color:  #6c8ff1;\n",
       "            color:  #000000;\n",
       "        }    #T_15870412_167c_11eb_a26f_8c8590a7200arow4_col9 {\n",
       "            background-color:  #4c66d6;\n",
       "            color:  #000000;\n",
       "        }    #T_15870412_167c_11eb_a26f_8c8590a7200arow4_col10 {\n",
       "            background-color:  #6788ee;\n",
       "            color:  #000000;\n",
       "        }    #T_15870412_167c_11eb_a26f_8c8590a7200arow5_col0 {\n",
       "            background-color:  #5470de;\n",
       "            color:  #000000;\n",
       "        }    #T_15870412_167c_11eb_a26f_8c8590a7200arow5_col1 {\n",
       "            background-color:  #3f53c6;\n",
       "            color:  #f1f1f1;\n",
       "        }    #T_15870412_167c_11eb_a26f_8c8590a7200arow5_col2 {\n",
       "            background-color:  #7da0f9;\n",
       "            color:  #000000;\n",
       "        }    #T_15870412_167c_11eb_a26f_8c8590a7200arow5_col3 {\n",
       "            background-color:  #4961d2;\n",
       "            color:  #f1f1f1;\n",
       "        }    #T_15870412_167c_11eb_a26f_8c8590a7200arow5_col4 {\n",
       "            background-color:  #3d50c3;\n",
       "            color:  #f1f1f1;\n",
       "        }    #T_15870412_167c_11eb_a26f_8c8590a7200arow5_col5 {\n",
       "            background-color:  #b40426;\n",
       "            color:  #f1f1f1;\n",
       "        }    #T_15870412_167c_11eb_a26f_8c8590a7200arow5_col6 {\n",
       "            background-color:  #6c8ff1;\n",
       "            color:  #000000;\n",
       "        }    #T_15870412_167c_11eb_a26f_8c8590a7200arow5_col7 {\n",
       "            background-color:  #4c66d6;\n",
       "            color:  #000000;\n",
       "        }    #T_15870412_167c_11eb_a26f_8c8590a7200arow5_col8 {\n",
       "            background-color:  #6e90f2;\n",
       "            color:  #000000;\n",
       "        }    #T_15870412_167c_11eb_a26f_8c8590a7200arow5_col9 {\n",
       "            background-color:  #4b64d5;\n",
       "            color:  #f1f1f1;\n",
       "        }    #T_15870412_167c_11eb_a26f_8c8590a7200arow5_col10 {\n",
       "            background-color:  #85a8fc;\n",
       "            color:  #000000;\n",
       "        }    #T_15870412_167c_11eb_a26f_8c8590a7200arow6_col0 {\n",
       "            background-color:  #516ddb;\n",
       "            color:  #000000;\n",
       "        }    #T_15870412_167c_11eb_a26f_8c8590a7200arow6_col1 {\n",
       "            background-color:  #3b4cc0;\n",
       "            color:  #f1f1f1;\n",
       "        }    #T_15870412_167c_11eb_a26f_8c8590a7200arow6_col2 {\n",
       "            background-color:  #9ebeff;\n",
       "            color:  #000000;\n",
       "        }    #T_15870412_167c_11eb_a26f_8c8590a7200arow6_col3 {\n",
       "            background-color:  #3c4ec2;\n",
       "            color:  #f1f1f1;\n",
       "        }    #T_15870412_167c_11eb_a26f_8c8590a7200arow6_col4 {\n",
       "            background-color:  #5572df;\n",
       "            color:  #000000;\n",
       "        }    #T_15870412_167c_11eb_a26f_8c8590a7200arow6_col5 {\n",
       "            background-color:  #5e7de7;\n",
       "            color:  #000000;\n",
       "        }    #T_15870412_167c_11eb_a26f_8c8590a7200arow6_col6 {\n",
       "            background-color:  #b40426;\n",
       "            color:  #f1f1f1;\n",
       "        }    #T_15870412_167c_11eb_a26f_8c8590a7200arow6_col7 {\n",
       "            background-color:  #3b4cc0;\n",
       "            color:  #f1f1f1;\n",
       "        }    #T_15870412_167c_11eb_a26f_8c8590a7200arow6_col8 {\n",
       "            background-color:  #d2dbe8;\n",
       "            color:  #000000;\n",
       "        }    #T_15870412_167c_11eb_a26f_8c8590a7200arow6_col9 {\n",
       "            background-color:  #3b4cc0;\n",
       "            color:  #f1f1f1;\n",
       "        }    #T_15870412_167c_11eb_a26f_8c8590a7200arow6_col10 {\n",
       "            background-color:  #85a8fc;\n",
       "            color:  #000000;\n",
       "        }    #T_15870412_167c_11eb_a26f_8c8590a7200arow7_col0 {\n",
       "            background-color:  #7ea1fa;\n",
       "            color:  #000000;\n",
       "        }    #T_15870412_167c_11eb_a26f_8c8590a7200arow7_col1 {\n",
       "            background-color:  #3d50c3;\n",
       "            color:  #f1f1f1;\n",
       "        }    #T_15870412_167c_11eb_a26f_8c8590a7200arow7_col2 {\n",
       "            background-color:  #6282ea;\n",
       "            color:  #000000;\n",
       "        }    #T_15870412_167c_11eb_a26f_8c8590a7200arow7_col3 {\n",
       "            background-color:  #b8122a;\n",
       "            color:  #f1f1f1;\n",
       "        }    #T_15870412_167c_11eb_a26f_8c8590a7200arow7_col4 {\n",
       "            background-color:  #4358cb;\n",
       "            color:  #f1f1f1;\n",
       "        }    #T_15870412_167c_11eb_a26f_8c8590a7200arow7_col5 {\n",
       "            background-color:  #3e51c5;\n",
       "            color:  #f1f1f1;\n",
       "        }    #T_15870412_167c_11eb_a26f_8c8590a7200arow7_col6 {\n",
       "            background-color:  #3b4cc0;\n",
       "            color:  #f1f1f1;\n",
       "        }    #T_15870412_167c_11eb_a26f_8c8590a7200arow7_col7 {\n",
       "            background-color:  #b40426;\n",
       "            color:  #f1f1f1;\n",
       "        }    #T_15870412_167c_11eb_a26f_8c8590a7200arow7_col8 {\n",
       "            background-color:  #3b4cc0;\n",
       "            color:  #f1f1f1;\n",
       "        }    #T_15870412_167c_11eb_a26f_8c8590a7200arow7_col9 {\n",
       "            background-color:  #b50927;\n",
       "            color:  #f1f1f1;\n",
       "        }    #T_15870412_167c_11eb_a26f_8c8590a7200arow7_col10 {\n",
       "            background-color:  #6f92f3;\n",
       "            color:  #000000;\n",
       "        }    #T_15870412_167c_11eb_a26f_8c8590a7200arow8_col0 {\n",
       "            background-color:  #5875e1;\n",
       "            color:  #000000;\n",
       "        }    #T_15870412_167c_11eb_a26f_8c8590a7200arow8_col1 {\n",
       "            background-color:  #3f53c6;\n",
       "            color:  #f1f1f1;\n",
       "        }    #T_15870412_167c_11eb_a26f_8c8590a7200arow8_col2 {\n",
       "            background-color:  #7da0f9;\n",
       "            color:  #000000;\n",
       "        }    #T_15870412_167c_11eb_a26f_8c8590a7200arow8_col3 {\n",
       "            background-color:  #4358cb;\n",
       "            color:  #f1f1f1;\n",
       "        }    #T_15870412_167c_11eb_a26f_8c8590a7200arow8_col4 {\n",
       "            background-color:  #6b8df0;\n",
       "            color:  #000000;\n",
       "        }    #T_15870412_167c_11eb_a26f_8c8590a7200arow8_col5 {\n",
       "            background-color:  #6a8bef;\n",
       "            color:  #000000;\n",
       "        }    #T_15870412_167c_11eb_a26f_8c8590a7200arow8_col6 {\n",
       "            background-color:  #d6dce4;\n",
       "            color:  #000000;\n",
       "        }    #T_15870412_167c_11eb_a26f_8c8590a7200arow8_col7 {\n",
       "            background-color:  #445acc;\n",
       "            color:  #f1f1f1;\n",
       "        }    #T_15870412_167c_11eb_a26f_8c8590a7200arow8_col8 {\n",
       "            background-color:  #b40426;\n",
       "            color:  #f1f1f1;\n",
       "        }    #T_15870412_167c_11eb_a26f_8c8590a7200arow8_col9 {\n",
       "            background-color:  #4358cb;\n",
       "            color:  #f1f1f1;\n",
       "        }    #T_15870412_167c_11eb_a26f_8c8590a7200arow8_col10 {\n",
       "            background-color:  #97b8ff;\n",
       "            color:  #000000;\n",
       "        }    #T_15870412_167c_11eb_a26f_8c8590a7200arow9_col0 {\n",
       "            background-color:  #799cf8;\n",
       "            color:  #000000;\n",
       "        }    #T_15870412_167c_11eb_a26f_8c8590a7200arow9_col1 {\n",
       "            background-color:  #3d50c3;\n",
       "            color:  #f1f1f1;\n",
       "        }    #T_15870412_167c_11eb_a26f_8c8590a7200arow9_col2 {\n",
       "            background-color:  #6282ea;\n",
       "            color:  #000000;\n",
       "        }    #T_15870412_167c_11eb_a26f_8c8590a7200arow9_col3 {\n",
       "            background-color:  #b8122a;\n",
       "            color:  #f1f1f1;\n",
       "        }    #T_15870412_167c_11eb_a26f_8c8590a7200arow9_col4 {\n",
       "            background-color:  #445acc;\n",
       "            color:  #f1f1f1;\n",
       "        }    #T_15870412_167c_11eb_a26f_8c8590a7200arow9_col5 {\n",
       "            background-color:  #3f53c6;\n",
       "            color:  #f1f1f1;\n",
       "        }    #T_15870412_167c_11eb_a26f_8c8590a7200arow9_col6 {\n",
       "            background-color:  #3d50c3;\n",
       "            color:  #f1f1f1;\n",
       "        }    #T_15870412_167c_11eb_a26f_8c8590a7200arow9_col7 {\n",
       "            background-color:  #b50927;\n",
       "            color:  #f1f1f1;\n",
       "        }    #T_15870412_167c_11eb_a26f_8c8590a7200arow9_col8 {\n",
       "            background-color:  #3c4ec2;\n",
       "            color:  #f1f1f1;\n",
       "        }    #T_15870412_167c_11eb_a26f_8c8590a7200arow9_col9 {\n",
       "            background-color:  #b40426;\n",
       "            color:  #f1f1f1;\n",
       "        }    #T_15870412_167c_11eb_a26f_8c8590a7200arow9_col10 {\n",
       "            background-color:  #6f92f3;\n",
       "            color:  #000000;\n",
       "        }    #T_15870412_167c_11eb_a26f_8c8590a7200arow10_col0 {\n",
       "            background-color:  #688aef;\n",
       "            color:  #000000;\n",
       "        }    #T_15870412_167c_11eb_a26f_8c8590a7200arow10_col1 {\n",
       "            background-color:  #3e51c5;\n",
       "            color:  #f1f1f1;\n",
       "        }    #T_15870412_167c_11eb_a26f_8c8590a7200arow10_col2 {\n",
       "            background-color:  #3b4cc0;\n",
       "            color:  #f1f1f1;\n",
       "        }    #T_15870412_167c_11eb_a26f_8c8590a7200arow10_col3 {\n",
       "            background-color:  #4b64d5;\n",
       "            color:  #f1f1f1;\n",
       "        }    #T_15870412_167c_11eb_a26f_8c8590a7200arow10_col4 {\n",
       "            background-color:  #3b4cc0;\n",
       "            color:  #f1f1f1;\n",
       "        }    #T_15870412_167c_11eb_a26f_8c8590a7200arow10_col5 {\n",
       "            background-color:  #5572df;\n",
       "            color:  #000000;\n",
       "        }    #T_15870412_167c_11eb_a26f_8c8590a7200arow10_col6 {\n",
       "            background-color:  #6485ec;\n",
       "            color:  #000000;\n",
       "        }    #T_15870412_167c_11eb_a26f_8c8590a7200arow10_col7 {\n",
       "            background-color:  #4e68d8;\n",
       "            color:  #000000;\n",
       "        }    #T_15870412_167c_11eb_a26f_8c8590a7200arow10_col8 {\n",
       "            background-color:  #6e90f2;\n",
       "            color:  #000000;\n",
       "        }    #T_15870412_167c_11eb_a26f_8c8590a7200arow10_col9 {\n",
       "            background-color:  #4b64d5;\n",
       "            color:  #f1f1f1;\n",
       "        }    #T_15870412_167c_11eb_a26f_8c8590a7200arow10_col10 {\n",
       "            background-color:  #b40426;\n",
       "            color:  #f1f1f1;\n",
       "        }</style><table id=\"T_15870412_167c_11eb_a26f_8c8590a7200a\" ><thead>    <tr>        <th class=\"blank level0\" ></th>        <th class=\"col_heading level0 col0\" >SeriousDlqin2yrs</th>        <th class=\"col_heading level0 col1\" >RevolvingUtilizationOfUnsecuredLines</th>        <th class=\"col_heading level0 col2\" >age</th>        <th class=\"col_heading level0 col3\" >NumberOfTime30-59DaysPastDueNotWorse</th>        <th class=\"col_heading level0 col4\" >DebtRatio</th>        <th class=\"col_heading level0 col5\" >MonthlyIncome</th>        <th class=\"col_heading level0 col6\" >NumberOfOpenCreditLinesAndLoans</th>        <th class=\"col_heading level0 col7\" >NumberOfTimes90DaysLate</th>        <th class=\"col_heading level0 col8\" >NumberRealEstateLoansOrLines</th>        <th class=\"col_heading level0 col9\" >NumberOfTime60-89DaysPastDueNotWorse</th>        <th class=\"col_heading level0 col10\" >NumberOfDependents</th>    </tr></thead><tbody>\n",
       "                <tr>\n",
       "                        <th id=\"T_15870412_167c_11eb_a26f_8c8590a7200alevel0_row0\" class=\"row_heading level0 row0\" >SeriousDlqin2yrs</th>\n",
       "                        <td id=\"T_15870412_167c_11eb_a26f_8c8590a7200arow0_col0\" class=\"data row0 col0\" >1</td>\n",
       "                        <td id=\"T_15870412_167c_11eb_a26f_8c8590a7200arow0_col1\" class=\"data row0 col1\" >-0.0018015</td>\n",
       "                        <td id=\"T_15870412_167c_11eb_a26f_8c8590a7200arow0_col2\" class=\"data row0 col2\" >-0.115386</td>\n",
       "                        <td id=\"T_15870412_167c_11eb_a26f_8c8590a7200arow0_col3\" class=\"data row0 col3\" >0.125587</td>\n",
       "                        <td id=\"T_15870412_167c_11eb_a26f_8c8590a7200arow0_col4\" class=\"data row0 col4\" >-0.00760212</td>\n",
       "                        <td id=\"T_15870412_167c_11eb_a26f_8c8590a7200arow0_col5\" class=\"data row0 col5\" >-0.0197455</td>\n",
       "                        <td id=\"T_15870412_167c_11eb_a26f_8c8590a7200arow0_col6\" class=\"data row0 col6\" >-0.0296686</td>\n",
       "                        <td id=\"T_15870412_167c_11eb_a26f_8c8590a7200arow0_col7\" class=\"data row0 col7\" >0.117175</td>\n",
       "                        <td id=\"T_15870412_167c_11eb_a26f_8c8590a7200arow0_col8\" class=\"data row0 col8\" >-0.00703812</td>\n",
       "                        <td id=\"T_15870412_167c_11eb_a26f_8c8590a7200arow0_col9\" class=\"data row0 col9\" >0.102261</td>\n",
       "                        <td id=\"T_15870412_167c_11eb_a26f_8c8590a7200arow0_col10\" class=\"data row0 col10\" >0.0460479</td>\n",
       "            </tr>\n",
       "            <tr>\n",
       "                        <th id=\"T_15870412_167c_11eb_a26f_8c8590a7200alevel0_row1\" class=\"row_heading level0 row1\" >RevolvingUtilizationOfUnsecuredLines</th>\n",
       "                        <td id=\"T_15870412_167c_11eb_a26f_8c8590a7200arow1_col0\" class=\"data row1 col0\" >-0.0018015</td>\n",
       "                        <td id=\"T_15870412_167c_11eb_a26f_8c8590a7200arow1_col1\" class=\"data row1 col1\" >1</td>\n",
       "                        <td id=\"T_15870412_167c_11eb_a26f_8c8590a7200arow1_col2\" class=\"data row1 col2\" >-0.00589818</td>\n",
       "                        <td id=\"T_15870412_167c_11eb_a26f_8c8590a7200arow1_col3\" class=\"data row1 col3\" >-0.0013135</td>\n",
       "                        <td id=\"T_15870412_167c_11eb_a26f_8c8590a7200arow1_col4\" class=\"data row1 col4\" >0.0039612</td>\n",
       "                        <td id=\"T_15870412_167c_11eb_a26f_8c8590a7200arow1_col5\" class=\"data row1 col5\" >0.00712389</td>\n",
       "                        <td id=\"T_15870412_167c_11eb_a26f_8c8590a7200arow1_col6\" class=\"data row1 col6\" >-0.0112807</td>\n",
       "                        <td id=\"T_15870412_167c_11eb_a26f_8c8590a7200arow1_col7\" class=\"data row1 col7\" >-0.00106125</td>\n",
       "                        <td id=\"T_15870412_167c_11eb_a26f_8c8590a7200arow1_col8\" class=\"data row1 col8\" >0.00623471</td>\n",
       "                        <td id=\"T_15870412_167c_11eb_a26f_8c8590a7200arow1_col9\" class=\"data row1 col9\" >-0.00104783</td>\n",
       "                        <td id=\"T_15870412_167c_11eb_a26f_8c8590a7200arow1_col10\" class=\"data row1 col10\" >0.00155734</td>\n",
       "            </tr>\n",
       "            <tr>\n",
       "                        <th id=\"T_15870412_167c_11eb_a26f_8c8590a7200alevel0_row2\" class=\"row_heading level0 row2\" >age</th>\n",
       "                        <td id=\"T_15870412_167c_11eb_a26f_8c8590a7200arow2_col0\" class=\"data row2 col0\" >-0.115386</td>\n",
       "                        <td id=\"T_15870412_167c_11eb_a26f_8c8590a7200arow2_col1\" class=\"data row2 col1\" >-0.00589818</td>\n",
       "                        <td id=\"T_15870412_167c_11eb_a26f_8c8590a7200arow2_col2\" class=\"data row2 col2\" >1</td>\n",
       "                        <td id=\"T_15870412_167c_11eb_a26f_8c8590a7200arow2_col3\" class=\"data row2 col3\" >-0.0629952</td>\n",
       "                        <td id=\"T_15870412_167c_11eb_a26f_8c8590a7200arow2_col4\" class=\"data row2 col4\" >0.0241878</td>\n",
       "                        <td id=\"T_15870412_167c_11eb_a26f_8c8590a7200arow2_col5\" class=\"data row2 col5\" >0.0377174</td>\n",
       "                        <td id=\"T_15870412_167c_11eb_a26f_8c8590a7200arow2_col6\" class=\"data row2 col6\" >0.147705</td>\n",
       "                        <td id=\"T_15870412_167c_11eb_a26f_8c8590a7200arow2_col7\" class=\"data row2 col7\" >-0.0610047</td>\n",
       "                        <td id=\"T_15870412_167c_11eb_a26f_8c8590a7200arow2_col8\" class=\"data row2 col8\" >0.0331503</td>\n",
       "                        <td id=\"T_15870412_167c_11eb_a26f_8c8590a7200arow2_col9\" class=\"data row2 col9\" >-0.0571595</td>\n",
       "                        <td id=\"T_15870412_167c_11eb_a26f_8c8590a7200arow2_col10\" class=\"data row2 col10\" >-0.213303</td>\n",
       "            </tr>\n",
       "            <tr>\n",
       "                        <th id=\"T_15870412_167c_11eb_a26f_8c8590a7200alevel0_row3\" class=\"row_heading level0 row3\" >NumberOfTime30-59DaysPastDueNotWorse</th>\n",
       "                        <td id=\"T_15870412_167c_11eb_a26f_8c8590a7200arow3_col0\" class=\"data row3 col0\" >0.125587</td>\n",
       "                        <td id=\"T_15870412_167c_11eb_a26f_8c8590a7200arow3_col1\" class=\"data row3 col1\" >-0.0013135</td>\n",
       "                        <td id=\"T_15870412_167c_11eb_a26f_8c8590a7200arow3_col2\" class=\"data row3 col2\" >-0.0629952</td>\n",
       "                        <td id=\"T_15870412_167c_11eb_a26f_8c8590a7200arow3_col3\" class=\"data row3 col3\" >1</td>\n",
       "                        <td id=\"T_15870412_167c_11eb_a26f_8c8590a7200arow3_col4\" class=\"data row3 col4\" >-0.00654192</td>\n",
       "                        <td id=\"T_15870412_167c_11eb_a26f_8c8590a7200arow3_col5\" class=\"data row3 col5\" >-0.0102174</td>\n",
       "                        <td id=\"T_15870412_167c_11eb_a26f_8c8590a7200arow3_col6\" class=\"data row3 col6\" >-0.0553122</td>\n",
       "                        <td id=\"T_15870412_167c_11eb_a26f_8c8590a7200arow3_col7\" class=\"data row3 col7\" >0.983603</td>\n",
       "                        <td id=\"T_15870412_167c_11eb_a26f_8c8590a7200arow3_col8\" class=\"data row3 col8\" >-0.0305645</td>\n",
       "                        <td id=\"T_15870412_167c_11eb_a26f_8c8590a7200arow3_col9\" class=\"data row3 col9\" >0.987005</td>\n",
       "                        <td id=\"T_15870412_167c_11eb_a26f_8c8590a7200arow3_col10\" class=\"data row3 col10\" >-0.00268045</td>\n",
       "            </tr>\n",
       "            <tr>\n",
       "                        <th id=\"T_15870412_167c_11eb_a26f_8c8590a7200alevel0_row4\" class=\"row_heading level0 row4\" >DebtRatio</th>\n",
       "                        <td id=\"T_15870412_167c_11eb_a26f_8c8590a7200arow4_col0\" class=\"data row4 col0\" >-0.00760212</td>\n",
       "                        <td id=\"T_15870412_167c_11eb_a26f_8c8590a7200arow4_col1\" class=\"data row4 col1\" >0.0039612</td>\n",
       "                        <td id=\"T_15870412_167c_11eb_a26f_8c8590a7200arow4_col2\" class=\"data row4 col2\" >0.0241878</td>\n",
       "                        <td id=\"T_15870412_167c_11eb_a26f_8c8590a7200arow4_col3\" class=\"data row4 col3\" >-0.00654192</td>\n",
       "                        <td id=\"T_15870412_167c_11eb_a26f_8c8590a7200arow4_col4\" class=\"data row4 col4\" >1</td>\n",
       "                        <td id=\"T_15870412_167c_11eb_a26f_8c8590a7200arow4_col5\" class=\"data row4 col5\" >-0.0287123</td>\n",
       "                        <td id=\"T_15870412_167c_11eb_a26f_8c8590a7200arow4_col6\" class=\"data row4 col6\" >0.0495653</td>\n",
       "                        <td id=\"T_15870412_167c_11eb_a26f_8c8590a7200arow4_col7\" class=\"data row4 col7\" >-0.00831964</td>\n",
       "                        <td id=\"T_15870412_167c_11eb_a26f_8c8590a7200arow4_col8\" class=\"data row4 col8\" >0.120046</td>\n",
       "                        <td id=\"T_15870412_167c_11eb_a26f_8c8590a7200arow4_col9\" class=\"data row4 col9\" >-0.0075331</td>\n",
       "                        <td id=\"T_15870412_167c_11eb_a26f_8c8590a7200arow4_col10\" class=\"data row4 col10\" >-0.0406727</td>\n",
       "            </tr>\n",
       "            <tr>\n",
       "                        <th id=\"T_15870412_167c_11eb_a26f_8c8590a7200alevel0_row5\" class=\"row_heading level0 row5\" >MonthlyIncome</th>\n",
       "                        <td id=\"T_15870412_167c_11eb_a26f_8c8590a7200arow5_col0\" class=\"data row5 col0\" >-0.0197455</td>\n",
       "                        <td id=\"T_15870412_167c_11eb_a26f_8c8590a7200arow5_col1\" class=\"data row5 col1\" >0.00712389</td>\n",
       "                        <td id=\"T_15870412_167c_11eb_a26f_8c8590a7200arow5_col2\" class=\"data row5 col2\" >0.0377174</td>\n",
       "                        <td id=\"T_15870412_167c_11eb_a26f_8c8590a7200arow5_col3\" class=\"data row5 col3\" >-0.0102174</td>\n",
       "                        <td id=\"T_15870412_167c_11eb_a26f_8c8590a7200arow5_col4\" class=\"data row5 col4\" >-0.0287123</td>\n",
       "                        <td id=\"T_15870412_167c_11eb_a26f_8c8590a7200arow5_col5\" class=\"data row5 col5\" >1</td>\n",
       "                        <td id=\"T_15870412_167c_11eb_a26f_8c8590a7200arow5_col6\" class=\"data row5 col6\" >0.0914547</td>\n",
       "                        <td id=\"T_15870412_167c_11eb_a26f_8c8590a7200arow5_col7\" class=\"data row5 col7\" >-0.0127428</td>\n",
       "                        <td id=\"T_15870412_167c_11eb_a26f_8c8590a7200arow5_col8\" class=\"data row5 col8\" >0.124959</td>\n",
       "                        <td id=\"T_15870412_167c_11eb_a26f_8c8590a7200arow5_col9\" class=\"data row5 col9\" >-0.0111155</td>\n",
       "                        <td id=\"T_15870412_167c_11eb_a26f_8c8590a7200arow5_col10\" class=\"data row5 col10\" >0.0626473</td>\n",
       "            </tr>\n",
       "            <tr>\n",
       "                        <th id=\"T_15870412_167c_11eb_a26f_8c8590a7200alevel0_row6\" class=\"row_heading level0 row6\" >NumberOfOpenCreditLinesAndLoans</th>\n",
       "                        <td id=\"T_15870412_167c_11eb_a26f_8c8590a7200arow6_col0\" class=\"data row6 col0\" >-0.0296686</td>\n",
       "                        <td id=\"T_15870412_167c_11eb_a26f_8c8590a7200arow6_col1\" class=\"data row6 col1\" >-0.0112807</td>\n",
       "                        <td id=\"T_15870412_167c_11eb_a26f_8c8590a7200arow6_col2\" class=\"data row6 col2\" >0.147705</td>\n",
       "                        <td id=\"T_15870412_167c_11eb_a26f_8c8590a7200arow6_col3\" class=\"data row6 col3\" >-0.0553122</td>\n",
       "                        <td id=\"T_15870412_167c_11eb_a26f_8c8590a7200arow6_col4\" class=\"data row6 col4\" >0.0495653</td>\n",
       "                        <td id=\"T_15870412_167c_11eb_a26f_8c8590a7200arow6_col5\" class=\"data row6 col5\" >0.0914547</td>\n",
       "                        <td id=\"T_15870412_167c_11eb_a26f_8c8590a7200arow6_col6\" class=\"data row6 col6\" >1</td>\n",
       "                        <td id=\"T_15870412_167c_11eb_a26f_8c8590a7200arow6_col7\" class=\"data row6 col7\" >-0.0799843</td>\n",
       "                        <td id=\"T_15870412_167c_11eb_a26f_8c8590a7200arow6_col8\" class=\"data row6 col8\" >0.433959</td>\n",
       "                        <td id=\"T_15870412_167c_11eb_a26f_8c8590a7200arow6_col9\" class=\"data row6 col9\" >-0.0710767</td>\n",
       "                        <td id=\"T_15870412_167c_11eb_a26f_8c8590a7200arow6_col10\" class=\"data row6 col10\" >0.0653221</td>\n",
       "            </tr>\n",
       "            <tr>\n",
       "                        <th id=\"T_15870412_167c_11eb_a26f_8c8590a7200alevel0_row7\" class=\"row_heading level0 row7\" >NumberOfTimes90DaysLate</th>\n",
       "                        <td id=\"T_15870412_167c_11eb_a26f_8c8590a7200arow7_col0\" class=\"data row7 col0\" >0.117175</td>\n",
       "                        <td id=\"T_15870412_167c_11eb_a26f_8c8590a7200arow7_col1\" class=\"data row7 col1\" >-0.00106125</td>\n",
       "                        <td id=\"T_15870412_167c_11eb_a26f_8c8590a7200arow7_col2\" class=\"data row7 col2\" >-0.0610047</td>\n",
       "                        <td id=\"T_15870412_167c_11eb_a26f_8c8590a7200arow7_col3\" class=\"data row7 col3\" >0.983603</td>\n",
       "                        <td id=\"T_15870412_167c_11eb_a26f_8c8590a7200arow7_col4\" class=\"data row7 col4\" >-0.00831964</td>\n",
       "                        <td id=\"T_15870412_167c_11eb_a26f_8c8590a7200arow7_col5\" class=\"data row7 col5\" >-0.0127428</td>\n",
       "                        <td id=\"T_15870412_167c_11eb_a26f_8c8590a7200arow7_col6\" class=\"data row7 col6\" >-0.0799843</td>\n",
       "                        <td id=\"T_15870412_167c_11eb_a26f_8c8590a7200arow7_col7\" class=\"data row7 col7\" >1</td>\n",
       "                        <td id=\"T_15870412_167c_11eb_a26f_8c8590a7200arow7_col8\" class=\"data row7 col8\" >-0.0452052</td>\n",
       "                        <td id=\"T_15870412_167c_11eb_a26f_8c8590a7200arow7_col9\" class=\"data row7 col9\" >0.992796</td>\n",
       "                        <td id=\"T_15870412_167c_11eb_a26f_8c8590a7200arow7_col10\" class=\"data row7 col10\" >-0.0101759</td>\n",
       "            </tr>\n",
       "            <tr>\n",
       "                        <th id=\"T_15870412_167c_11eb_a26f_8c8590a7200alevel0_row8\" class=\"row_heading level0 row8\" >NumberRealEstateLoansOrLines</th>\n",
       "                        <td id=\"T_15870412_167c_11eb_a26f_8c8590a7200arow8_col0\" class=\"data row8 col0\" >-0.00703812</td>\n",
       "                        <td id=\"T_15870412_167c_11eb_a26f_8c8590a7200arow8_col1\" class=\"data row8 col1\" >0.00623471</td>\n",
       "                        <td id=\"T_15870412_167c_11eb_a26f_8c8590a7200arow8_col2\" class=\"data row8 col2\" >0.0331503</td>\n",
       "                        <td id=\"T_15870412_167c_11eb_a26f_8c8590a7200arow8_col3\" class=\"data row8 col3\" >-0.0305645</td>\n",
       "                        <td id=\"T_15870412_167c_11eb_a26f_8c8590a7200arow8_col4\" class=\"data row8 col4\" >0.120046</td>\n",
       "                        <td id=\"T_15870412_167c_11eb_a26f_8c8590a7200arow8_col5\" class=\"data row8 col5\" >0.124959</td>\n",
       "                        <td id=\"T_15870412_167c_11eb_a26f_8c8590a7200arow8_col6\" class=\"data row8 col6\" >0.433959</td>\n",
       "                        <td id=\"T_15870412_167c_11eb_a26f_8c8590a7200arow8_col7\" class=\"data row8 col7\" >-0.0452052</td>\n",
       "                        <td id=\"T_15870412_167c_11eb_a26f_8c8590a7200arow8_col8\" class=\"data row8 col8\" >1</td>\n",
       "                        <td id=\"T_15870412_167c_11eb_a26f_8c8590a7200arow8_col9\" class=\"data row8 col9\" >-0.0397223</td>\n",
       "                        <td id=\"T_15870412_167c_11eb_a26f_8c8590a7200arow8_col10\" class=\"data row8 col10\" >0.124684</td>\n",
       "            </tr>\n",
       "            <tr>\n",
       "                        <th id=\"T_15870412_167c_11eb_a26f_8c8590a7200alevel0_row9\" class=\"row_heading level0 row9\" >NumberOfTime60-89DaysPastDueNotWorse</th>\n",
       "                        <td id=\"T_15870412_167c_11eb_a26f_8c8590a7200arow9_col0\" class=\"data row9 col0\" >0.102261</td>\n",
       "                        <td id=\"T_15870412_167c_11eb_a26f_8c8590a7200arow9_col1\" class=\"data row9 col1\" >-0.00104783</td>\n",
       "                        <td id=\"T_15870412_167c_11eb_a26f_8c8590a7200arow9_col2\" class=\"data row9 col2\" >-0.0571595</td>\n",
       "                        <td id=\"T_15870412_167c_11eb_a26f_8c8590a7200arow9_col3\" class=\"data row9 col3\" >0.987005</td>\n",
       "                        <td id=\"T_15870412_167c_11eb_a26f_8c8590a7200arow9_col4\" class=\"data row9 col4\" >-0.0075331</td>\n",
       "                        <td id=\"T_15870412_167c_11eb_a26f_8c8590a7200arow9_col5\" class=\"data row9 col5\" >-0.0111155</td>\n",
       "                        <td id=\"T_15870412_167c_11eb_a26f_8c8590a7200arow9_col6\" class=\"data row9 col6\" >-0.0710767</td>\n",
       "                        <td id=\"T_15870412_167c_11eb_a26f_8c8590a7200arow9_col7\" class=\"data row9 col7\" >0.992796</td>\n",
       "                        <td id=\"T_15870412_167c_11eb_a26f_8c8590a7200arow9_col8\" class=\"data row9 col8\" >-0.0397223</td>\n",
       "                        <td id=\"T_15870412_167c_11eb_a26f_8c8590a7200arow9_col9\" class=\"data row9 col9\" >1</td>\n",
       "                        <td id=\"T_15870412_167c_11eb_a26f_8c8590a7200arow9_col10\" class=\"data row9 col10\" >-0.010922</td>\n",
       "            </tr>\n",
       "            <tr>\n",
       "                        <th id=\"T_15870412_167c_11eb_a26f_8c8590a7200alevel0_row10\" class=\"row_heading level0 row10\" >NumberOfDependents</th>\n",
       "                        <td id=\"T_15870412_167c_11eb_a26f_8c8590a7200arow10_col0\" class=\"data row10 col0\" >0.0460479</td>\n",
       "                        <td id=\"T_15870412_167c_11eb_a26f_8c8590a7200arow10_col1\" class=\"data row10 col1\" >0.00155734</td>\n",
       "                        <td id=\"T_15870412_167c_11eb_a26f_8c8590a7200arow10_col2\" class=\"data row10 col2\" >-0.213303</td>\n",
       "                        <td id=\"T_15870412_167c_11eb_a26f_8c8590a7200arow10_col3\" class=\"data row10 col3\" >-0.00268045</td>\n",
       "                        <td id=\"T_15870412_167c_11eb_a26f_8c8590a7200arow10_col4\" class=\"data row10 col4\" >-0.0406727</td>\n",
       "                        <td id=\"T_15870412_167c_11eb_a26f_8c8590a7200arow10_col5\" class=\"data row10 col5\" >0.0626473</td>\n",
       "                        <td id=\"T_15870412_167c_11eb_a26f_8c8590a7200arow10_col6\" class=\"data row10 col6\" >0.0653221</td>\n",
       "                        <td id=\"T_15870412_167c_11eb_a26f_8c8590a7200arow10_col7\" class=\"data row10 col7\" >-0.0101759</td>\n",
       "                        <td id=\"T_15870412_167c_11eb_a26f_8c8590a7200arow10_col8\" class=\"data row10 col8\" >0.124684</td>\n",
       "                        <td id=\"T_15870412_167c_11eb_a26f_8c8590a7200arow10_col9\" class=\"data row10 col9\" >-0.010922</td>\n",
       "                        <td id=\"T_15870412_167c_11eb_a26f_8c8590a7200arow10_col10\" class=\"data row10 col10\" >1</td>\n",
       "            </tr>\n",
       "    </tbody></table>"
      ],
      "text/plain": [
       "<pandas.io.formats.style.Styler at 0x7ffc320f1940>"
      ]
     },
     "execution_count": 35,
     "metadata": {},
     "output_type": "execute_result"
    }
   ],
   "source": [
    "corr_df.style.background_gradient(cmap='coolwarm')"
   ]
  },
  {
   "cell_type": "markdown",
   "metadata": {},
   "source": [
    "NumberOfTime60-89DaysPastDueNotWorse , NumberOfTime30-59DaysPastDueNotWorse,and NumberOfTimes90DaysLate are strongly correlated to each other.\n",
    "\n",
    "- this make sense as they are based on number of times from just different amount of days. Hence it will overlap\n",
    "- however since they represent the behaviour of the borrower \n",
    "    - to default either never, only for a short period or \n",
    "    - default after for long period \n",
    "\n",
    "Hence I did not remove them."
   ]
  },
  {
   "cell_type": "markdown",
   "metadata": {},
   "source": [
    "## Handling Na values under MonthlyIncome column ( likewise for NumberOfDependents column)\n",
    "There are various ways to handle for missing data for this column (continuous)\n",
    "\n",
    "1. Depending on the percentage of the missing rows out of the whole dataset, if it is not that significant, can remove \n",
    "    - however, this is removing potential significant data points and strongly not recommended\n",
    "2. Fill in with the mean/median of that column since this is the training set, it would not introduce data leakage\n",
    "    - choose mean or median based on the distribution\n",
    "        - choose median such that it would not get affected by the outliers under this column\n",
    "3. Using other columns to build a clustering method, create a borrower profile, and find which one it best belong to and using the mean of the income of this group ( median number of dependents for this group )\n",
    "    - for a better representation instead of using the median/mean which is general across all types of borrowers \n",
    "    \n",
    "    "
   ]
  },
  {
   "cell_type": "markdown",
   "metadata": {},
   "source": [
    "- Method 2 is a quick and easy way to get things done in the initial POC stage, as well as in production because of one less model (clustering) to be built but could affect results of the model \n",
    "- Method 3 would be more comprehensive, but more considerations have to be taken during the deployment into ML pipelines such that it would not affect the speed or scalability. \n",
    "\n",
    "For this assignment I would try out both just to see any difference in the final results.\n"
   ]
  },
  {
   "cell_type": "markdown",
   "metadata": {},
   "source": [
    "# Try 1\n",
    "- using median to handle for missing monthly income and for number of dependent after splitting to training and testing dataset"
   ]
  },
  {
   "cell_type": "markdown",
   "metadata": {},
   "source": [
    "As the testing data given do not have labels, take a subset of the training data to form the testing data for this assignment purpose"
   ]
  },
  {
   "cell_type": "code",
   "execution_count": 36,
   "metadata": {},
   "outputs": [
    {
     "data": {
      "text/html": [
       "<div>\n",
       "<style scoped>\n",
       "    .dataframe tbody tr th:only-of-type {\n",
       "        vertical-align: middle;\n",
       "    }\n",
       "\n",
       "    .dataframe tbody tr th {\n",
       "        vertical-align: top;\n",
       "    }\n",
       "\n",
       "    .dataframe thead th {\n",
       "        text-align: right;\n",
       "    }\n",
       "</style>\n",
       "<table border=\"1\" class=\"dataframe\">\n",
       "  <thead>\n",
       "    <tr style=\"text-align: right;\">\n",
       "      <th></th>\n",
       "      <th>Unnamed: 0</th>\n",
       "      <th>SeriousDlqin2yrs</th>\n",
       "      <th>RevolvingUtilizationOfUnsecuredLines</th>\n",
       "      <th>age</th>\n",
       "      <th>NumberOfTime30-59DaysPastDueNotWorse</th>\n",
       "      <th>DebtRatio</th>\n",
       "      <th>MonthlyIncome</th>\n",
       "      <th>NumberOfOpenCreditLinesAndLoans</th>\n",
       "      <th>NumberOfTimes90DaysLate</th>\n",
       "      <th>NumberRealEstateLoansOrLines</th>\n",
       "      <th>NumberOfTime60-89DaysPastDueNotWorse</th>\n",
       "      <th>NumberOfDependents</th>\n",
       "    </tr>\n",
       "  </thead>\n",
       "  <tbody>\n",
       "    <tr>\n",
       "      <td>0</td>\n",
       "      <td>1</td>\n",
       "      <td>1</td>\n",
       "      <td>0.766127</td>\n",
       "      <td>45</td>\n",
       "      <td>2</td>\n",
       "      <td>0.802982</td>\n",
       "      <td>9120.0</td>\n",
       "      <td>13</td>\n",
       "      <td>0</td>\n",
       "      <td>6</td>\n",
       "      <td>0</td>\n",
       "      <td>2.0</td>\n",
       "    </tr>\n",
       "    <tr>\n",
       "      <td>1</td>\n",
       "      <td>2</td>\n",
       "      <td>0</td>\n",
       "      <td>0.957151</td>\n",
       "      <td>40</td>\n",
       "      <td>0</td>\n",
       "      <td>0.121876</td>\n",
       "      <td>2600.0</td>\n",
       "      <td>4</td>\n",
       "      <td>0</td>\n",
       "      <td>0</td>\n",
       "      <td>0</td>\n",
       "      <td>1.0</td>\n",
       "    </tr>\n",
       "    <tr>\n",
       "      <td>2</td>\n",
       "      <td>3</td>\n",
       "      <td>0</td>\n",
       "      <td>0.658180</td>\n",
       "      <td>38</td>\n",
       "      <td>1</td>\n",
       "      <td>0.085113</td>\n",
       "      <td>3042.0</td>\n",
       "      <td>2</td>\n",
       "      <td>1</td>\n",
       "      <td>0</td>\n",
       "      <td>0</td>\n",
       "      <td>0.0</td>\n",
       "    </tr>\n",
       "    <tr>\n",
       "      <td>3</td>\n",
       "      <td>4</td>\n",
       "      <td>0</td>\n",
       "      <td>0.233810</td>\n",
       "      <td>30</td>\n",
       "      <td>0</td>\n",
       "      <td>0.036050</td>\n",
       "      <td>3300.0</td>\n",
       "      <td>5</td>\n",
       "      <td>0</td>\n",
       "      <td>0</td>\n",
       "      <td>0</td>\n",
       "      <td>0.0</td>\n",
       "    </tr>\n",
       "    <tr>\n",
       "      <td>4</td>\n",
       "      <td>5</td>\n",
       "      <td>0</td>\n",
       "      <td>0.907239</td>\n",
       "      <td>49</td>\n",
       "      <td>1</td>\n",
       "      <td>0.024926</td>\n",
       "      <td>63588.0</td>\n",
       "      <td>7</td>\n",
       "      <td>0</td>\n",
       "      <td>1</td>\n",
       "      <td>0</td>\n",
       "      <td>0.0</td>\n",
       "    </tr>\n",
       "    <tr>\n",
       "      <td>...</td>\n",
       "      <td>...</td>\n",
       "      <td>...</td>\n",
       "      <td>...</td>\n",
       "      <td>...</td>\n",
       "      <td>...</td>\n",
       "      <td>...</td>\n",
       "      <td>...</td>\n",
       "      <td>...</td>\n",
       "      <td>...</td>\n",
       "      <td>...</td>\n",
       "      <td>...</td>\n",
       "      <td>...</td>\n",
       "    </tr>\n",
       "    <tr>\n",
       "      <td>149995</td>\n",
       "      <td>149996</td>\n",
       "      <td>0</td>\n",
       "      <td>0.040674</td>\n",
       "      <td>74</td>\n",
       "      <td>0</td>\n",
       "      <td>0.225131</td>\n",
       "      <td>2100.0</td>\n",
       "      <td>4</td>\n",
       "      <td>0</td>\n",
       "      <td>1</td>\n",
       "      <td>0</td>\n",
       "      <td>0.0</td>\n",
       "    </tr>\n",
       "    <tr>\n",
       "      <td>149996</td>\n",
       "      <td>149997</td>\n",
       "      <td>0</td>\n",
       "      <td>0.299745</td>\n",
       "      <td>44</td>\n",
       "      <td>0</td>\n",
       "      <td>0.716562</td>\n",
       "      <td>5584.0</td>\n",
       "      <td>4</td>\n",
       "      <td>0</td>\n",
       "      <td>1</td>\n",
       "      <td>0</td>\n",
       "      <td>2.0</td>\n",
       "    </tr>\n",
       "    <tr>\n",
       "      <td>149997</td>\n",
       "      <td>149998</td>\n",
       "      <td>0</td>\n",
       "      <td>0.246044</td>\n",
       "      <td>58</td>\n",
       "      <td>0</td>\n",
       "      <td>3870.000000</td>\n",
       "      <td>NaN</td>\n",
       "      <td>18</td>\n",
       "      <td>0</td>\n",
       "      <td>1</td>\n",
       "      <td>0</td>\n",
       "      <td>0.0</td>\n",
       "    </tr>\n",
       "    <tr>\n",
       "      <td>149998</td>\n",
       "      <td>149999</td>\n",
       "      <td>0</td>\n",
       "      <td>0.000000</td>\n",
       "      <td>30</td>\n",
       "      <td>0</td>\n",
       "      <td>0.000000</td>\n",
       "      <td>5716.0</td>\n",
       "      <td>4</td>\n",
       "      <td>0</td>\n",
       "      <td>0</td>\n",
       "      <td>0</td>\n",
       "      <td>0.0</td>\n",
       "    </tr>\n",
       "    <tr>\n",
       "      <td>149999</td>\n",
       "      <td>150000</td>\n",
       "      <td>0</td>\n",
       "      <td>0.850283</td>\n",
       "      <td>64</td>\n",
       "      <td>0</td>\n",
       "      <td>0.249908</td>\n",
       "      <td>8158.0</td>\n",
       "      <td>8</td>\n",
       "      <td>0</td>\n",
       "      <td>2</td>\n",
       "      <td>0</td>\n",
       "      <td>0.0</td>\n",
       "    </tr>\n",
       "  </tbody>\n",
       "</table>\n",
       "<p>150000 rows × 12 columns</p>\n",
       "</div>"
      ],
      "text/plain": [
       "        Unnamed: 0  SeriousDlqin2yrs  RevolvingUtilizationOfUnsecuredLines  \\\n",
       "0                1                 1                              0.766127   \n",
       "1                2                 0                              0.957151   \n",
       "2                3                 0                              0.658180   \n",
       "3                4                 0                              0.233810   \n",
       "4                5                 0                              0.907239   \n",
       "...            ...               ...                                   ...   \n",
       "149995      149996                 0                              0.040674   \n",
       "149996      149997                 0                              0.299745   \n",
       "149997      149998                 0                              0.246044   \n",
       "149998      149999                 0                              0.000000   \n",
       "149999      150000                 0                              0.850283   \n",
       "\n",
       "        age  NumberOfTime30-59DaysPastDueNotWorse    DebtRatio  MonthlyIncome  \\\n",
       "0        45                                     2     0.802982         9120.0   \n",
       "1        40                                     0     0.121876         2600.0   \n",
       "2        38                                     1     0.085113         3042.0   \n",
       "3        30                                     0     0.036050         3300.0   \n",
       "4        49                                     1     0.024926        63588.0   \n",
       "...     ...                                   ...          ...            ...   \n",
       "149995   74                                     0     0.225131         2100.0   \n",
       "149996   44                                     0     0.716562         5584.0   \n",
       "149997   58                                     0  3870.000000            NaN   \n",
       "149998   30                                     0     0.000000         5716.0   \n",
       "149999   64                                     0     0.249908         8158.0   \n",
       "\n",
       "        NumberOfOpenCreditLinesAndLoans  NumberOfTimes90DaysLate  \\\n",
       "0                                    13                        0   \n",
       "1                                     4                        0   \n",
       "2                                     2                        1   \n",
       "3                                     5                        0   \n",
       "4                                     7                        0   \n",
       "...                                 ...                      ...   \n",
       "149995                                4                        0   \n",
       "149996                                4                        0   \n",
       "149997                               18                        0   \n",
       "149998                                4                        0   \n",
       "149999                                8                        0   \n",
       "\n",
       "        NumberRealEstateLoansOrLines  NumberOfTime60-89DaysPastDueNotWorse  \\\n",
       "0                                  6                                     0   \n",
       "1                                  0                                     0   \n",
       "2                                  0                                     0   \n",
       "3                                  0                                     0   \n",
       "4                                  1                                     0   \n",
       "...                              ...                                   ...   \n",
       "149995                             1                                     0   \n",
       "149996                             1                                     0   \n",
       "149997                             1                                     0   \n",
       "149998                             0                                     0   \n",
       "149999                             2                                     0   \n",
       "\n",
       "        NumberOfDependents  \n",
       "0                      2.0  \n",
       "1                      1.0  \n",
       "2                      0.0  \n",
       "3                      0.0  \n",
       "4                      0.0  \n",
       "...                    ...  \n",
       "149995                 0.0  \n",
       "149996                 2.0  \n",
       "149997                 0.0  \n",
       "149998                 0.0  \n",
       "149999                 0.0  \n",
       "\n",
       "[150000 rows x 12 columns]"
      ]
     },
     "execution_count": 36,
     "metadata": {},
     "output_type": "execute_result"
    }
   ],
   "source": [
    "training_data"
   ]
  },
  {
   "cell_type": "code",
   "execution_count": 37,
   "metadata": {},
   "outputs": [
    {
     "data": {
      "text/plain": [
       "Index(['Unnamed: 0', 'SeriousDlqin2yrs',\n",
       "       'RevolvingUtilizationOfUnsecuredLines', 'age',\n",
       "       'NumberOfTime30-59DaysPastDueNotWorse', 'DebtRatio', 'MonthlyIncome',\n",
       "       'NumberOfOpenCreditLinesAndLoans', 'NumberOfTimes90DaysLate',\n",
       "       'NumberRealEstateLoansOrLines', 'NumberOfTime60-89DaysPastDueNotWorse',\n",
       "       'NumberOfDependents'],\n",
       "      dtype='object')"
      ]
     },
     "execution_count": 37,
     "metadata": {},
     "output_type": "execute_result"
    }
   ],
   "source": [
    "training_data.columns"
   ]
  },
  {
   "cell_type": "code",
   "execution_count": 38,
   "metadata": {},
   "outputs": [],
   "source": [
    "X = training_data[['RevolvingUtilizationOfUnsecuredLines', 'age',\n",
    "       'NumberOfTime30-59DaysPastDueNotWorse', 'DebtRatio', 'MonthlyIncome',\n",
    "       'NumberOfOpenCreditLinesAndLoans', 'NumberOfTimes90DaysLate',\n",
    "       'NumberRealEstateLoansOrLines', 'NumberOfTime60-89DaysPastDueNotWorse',\n",
    "       'NumberOfDependents'\n",
    "]]\n",
    "\n",
    "y = training_data[\"SeriousDlqin2yrs\"]"
   ]
  },
  {
   "cell_type": "code",
   "execution_count": 39,
   "metadata": {},
   "outputs": [],
   "source": [
    "from sklearn.model_selection import train_test_split"
   ]
  },
  {
   "cell_type": "code",
   "execution_count": 40,
   "metadata": {},
   "outputs": [],
   "source": [
    "X_train, X_test, y_train, y_test = train_test_split(\n",
    "    X, y, test_size=0.25, random_state=42)"
   ]
  },
  {
   "cell_type": "code",
   "execution_count": 41,
   "metadata": {},
   "outputs": [],
   "source": [
    "def apply_median_to_na(df, colname):\n",
    "    \"\"\"\n",
    "    Apply median onto the given column's missing rows on the dataframe and return the new dataframe\n",
    "    \n",
    "    Params\n",
    "    ------\n",
    "    df : pandas dataframe\n",
    "    colname : string, must be present in the df \n",
    "    \n",
    "    Return\n",
    "    ------\n",
    "    dataframe with the nan value replaced median value \n",
    "    \"\"\"\n",
    "    df_copy = df.copy(deep=True)\n",
    "    col_median = df_copy[colname].median()\n",
    "    df_copy[colname] = df_copy[colname].fillna(col_median)\n",
    "    return df_copy\n",
    "    "
   ]
  },
  {
   "cell_type": "code",
   "execution_count": 42,
   "metadata": {},
   "outputs": [
    {
     "name": "stdout",
     "output_type": "stream",
     "text": [
      "<class 'pandas.core.frame.DataFrame'>\n",
      "Int64Index: 112500 entries, 92988 to 121958\n",
      "Data columns (total 10 columns):\n",
      "RevolvingUtilizationOfUnsecuredLines    112500 non-null float64\n",
      "age                                     112500 non-null int64\n",
      "NumberOfTime30-59DaysPastDueNotWorse    112500 non-null int64\n",
      "DebtRatio                               112500 non-null float64\n",
      "MonthlyIncome                           90223 non-null float64\n",
      "NumberOfOpenCreditLinesAndLoans         112500 non-null int64\n",
      "NumberOfTimes90DaysLate                 112500 non-null int64\n",
      "NumberRealEstateLoansOrLines            112500 non-null int64\n",
      "NumberOfTime60-89DaysPastDueNotWorse    112500 non-null int64\n",
      "NumberOfDependents                      109562 non-null float64\n",
      "dtypes: float64(4), int64(6)\n",
      "memory usage: 9.4 MB\n"
     ]
    }
   ],
   "source": [
    "X_train.info()"
   ]
  },
  {
   "cell_type": "code",
   "execution_count": 43,
   "metadata": {},
   "outputs": [
    {
     "name": "stdout",
     "output_type": "stream",
     "text": [
      "<class 'pandas.core.frame.DataFrame'>\n",
      "Int64Index: 112500 entries, 92988 to 121958\n",
      "Data columns (total 10 columns):\n",
      "RevolvingUtilizationOfUnsecuredLines    112500 non-null float64\n",
      "age                                     112500 non-null int64\n",
      "NumberOfTime30-59DaysPastDueNotWorse    112500 non-null int64\n",
      "DebtRatio                               112500 non-null float64\n",
      "MonthlyIncome                           112500 non-null float64\n",
      "NumberOfOpenCreditLinesAndLoans         112500 non-null int64\n",
      "NumberOfTimes90DaysLate                 112500 non-null int64\n",
      "NumberRealEstateLoansOrLines            112500 non-null int64\n",
      "NumberOfTime60-89DaysPastDueNotWorse    112500 non-null int64\n",
      "NumberOfDependents                      112500 non-null float64\n",
      "dtypes: float64(4), int64(6)\n",
      "memory usage: 9.4 MB\n"
     ]
    }
   ],
   "source": [
    "new_X_train = apply_median_to_na(X_train, \"MonthlyIncome\")\n",
    "new_X_train = apply_median_to_na(new_X_train, \"NumberOfDependents\")\n",
    "new_X_train.info()"
   ]
  },
  {
   "cell_type": "code",
   "execution_count": 44,
   "metadata": {},
   "outputs": [
    {
     "name": "stdout",
     "output_type": "stream",
     "text": [
      "<class 'pandas.core.frame.DataFrame'>\n",
      "Int64Index: 37500 entries, 59770 to 40589\n",
      "Data columns (total 10 columns):\n",
      "RevolvingUtilizationOfUnsecuredLines    37500 non-null float64\n",
      "age                                     37500 non-null int64\n",
      "NumberOfTime30-59DaysPastDueNotWorse    37500 non-null int64\n",
      "DebtRatio                               37500 non-null float64\n",
      "MonthlyIncome                           37500 non-null float64\n",
      "NumberOfOpenCreditLinesAndLoans         37500 non-null int64\n",
      "NumberOfTimes90DaysLate                 37500 non-null int64\n",
      "NumberRealEstateLoansOrLines            37500 non-null int64\n",
      "NumberOfTime60-89DaysPastDueNotWorse    37500 non-null int64\n",
      "NumberOfDependents                      37500 non-null float64\n",
      "dtypes: float64(4), int64(6)\n",
      "memory usage: 3.1 MB\n"
     ]
    }
   ],
   "source": [
    "new_X_test = apply_median_to_na(X_test, \"MonthlyIncome\")\n",
    "new_X_test = apply_median_to_na(new_X_test, \"NumberOfDependents\")\n",
    "new_X_test.info()"
   ]
  },
  {
   "cell_type": "code",
   "execution_count": 45,
   "metadata": {},
   "outputs": [],
   "source": [
    "# converting to numpy array \n",
    "X_train_numpy = new_X_train.to_numpy()\n",
    "y_train_numpy = y_train.to_numpy()\n",
    "\n",
    "X_test_numpy = new_X_test.to_numpy()\n",
    "y_test_numpy = y_test.to_numpy()"
   ]
  },
  {
   "cell_type": "markdown",
   "metadata": {},
   "source": [
    "# Modelling"
   ]
  },
  {
   "cell_type": "markdown",
   "metadata": {},
   "source": [
    "### XGBoost"
   ]
  },
  {
   "cell_type": "code",
   "execution_count": 46,
   "metadata": {},
   "outputs": [],
   "source": [
    "from xgboost import XGBClassifier"
   ]
  },
  {
   "cell_type": "code",
   "execution_count": 47,
   "metadata": {},
   "outputs": [
    {
     "data": {
      "text/plain": [
       "XGBClassifier(base_score=0.5, booster='gbtree', colsample_bylevel=1,\n",
       "              colsample_bytree=1, gamma=0, learning_rate=0.1, max_delta_step=0,\n",
       "              max_depth=3, min_child_weight=1, missing=None, n_estimators=100,\n",
       "              n_jobs=1, nthread=None, objective='binary:logistic',\n",
       "              random_state=0, reg_alpha=0, reg_lambda=1, scale_pos_weight=1,\n",
       "              seed=None, silent=True, subsample=1)"
      ]
     },
     "execution_count": 47,
     "metadata": {},
     "output_type": "execute_result"
    }
   ],
   "source": [
    "# fit with default parameters \n",
    "xgb = XGBClassifier()\n",
    "xgb.fit(X_train_numpy, y_train_numpy)"
   ]
  },
  {
   "cell_type": "code",
   "execution_count": 48,
   "metadata": {},
   "outputs": [],
   "source": [
    "y_predict = xgb.predict(X_test_numpy)"
   ]
  },
  {
   "cell_type": "code",
   "execution_count": 49,
   "metadata": {},
   "outputs": [
    {
     "data": {
      "text/plain": [
       "array([[34697,   328],\n",
       "       [ 1998,   477]])"
      ]
     },
     "execution_count": 49,
     "metadata": {},
     "output_type": "execute_result"
    }
   ],
   "source": [
    "confusion_matrix(y_test_numpy,y_predict)\n",
    "# TN (0,0), FP(0,0)\n",
    "# FN (1,0), TP (1,1)"
   ]
  },
  {
   "cell_type": "code",
   "execution_count": 50,
   "metadata": {},
   "outputs": [],
   "source": [
    "target_names = [\"no default\", \"default\"]"
   ]
  },
  {
   "cell_type": "code",
   "execution_count": 51,
   "metadata": {},
   "outputs": [
    {
     "name": "stdout",
     "output_type": "stream",
     "text": [
      "              precision    recall  f1-score   support\n",
      "\n",
      "  no default       0.95      0.99      0.97     35025\n",
      "     default       0.59      0.19      0.29      2475\n",
      "\n",
      "    accuracy                           0.94     37500\n",
      "   macro avg       0.77      0.59      0.63     37500\n",
      "weighted avg       0.92      0.94      0.92     37500\n",
      "\n"
     ]
    }
   ],
   "source": [
    "print(classification_report(y_test_numpy,y_predict, target_names=target_names))"
   ]
  },
  {
   "cell_type": "markdown",
   "metadata": {},
   "source": [
    "Low recall score for predicting default ( high amount of False Negatives )\n",
    "\n",
    "- this could be due to the imbalanced dataset ( number of borrowers who default constitutes of a smaller percentage of the general population. )\n",
    "- Can be resolved by \n",
    "    1. Oversampling or SMOTE, to generate more data points for the minority calss\n",
    "        - to learn more features of a default behaviour \n",
    "    2. Using classweight params if possible \n",
    "        - for model to understand that the percentage of the default will always be very low as normal borrowers would want to pay back their debt asap \n"
   ]
  },
  {
   "cell_type": "code",
   "execution_count": 52,
   "metadata": {},
   "outputs": [
    {
     "data": {
      "text/plain": [
       "(array([0, 1]), array([104949,   7551]))"
      ]
     },
     "execution_count": 52,
     "metadata": {},
     "output_type": "execute_result"
    }
   ],
   "source": [
    "np.unique(y_train_numpy, return_counts= True)"
   ]
  },
  {
   "cell_type": "code",
   "execution_count": 53,
   "metadata": {},
   "outputs": [
    {
     "data": {
      "text/plain": [
       "13.898688915375446"
      ]
     },
     "execution_count": 53,
     "metadata": {},
     "output_type": "execute_result"
    }
   ],
   "source": [
    "scale_pos_weight = 104949 / 7551 # for using classweight in xgboost\n",
    "scale_pos_weight"
   ]
  },
  {
   "cell_type": "code",
   "execution_count": 54,
   "metadata": {},
   "outputs": [
    {
     "data": {
      "text/plain": [
       "XGBClassifier(base_score=0.5, booster='gbtree', colsample_bylevel=1,\n",
       "              colsample_bytree=1, gamma=0, learning_rate=0.1, max_delta_step=0,\n",
       "              max_depth=3, min_child_weight=1, missing=None, n_estimators=100,\n",
       "              n_jobs=1, nthread=None, objective='binary:logistic',\n",
       "              random_state=0, reg_alpha=0, reg_lambda=1,\n",
       "              scale_pos_weight=13.898688915375446, seed=None, silent=True,\n",
       "              subsample=1)"
      ]
     },
     "execution_count": 54,
     "metadata": {},
     "output_type": "execute_result"
    }
   ],
   "source": [
    "xgb_new = XGBClassifier(scale_pos_weight= scale_pos_weight) # using default params\n",
    "xgb_new.fit(X_train_numpy, y_train_numpy)"
   ]
  },
  {
   "cell_type": "code",
   "execution_count": 55,
   "metadata": {},
   "outputs": [],
   "source": [
    "y_predict = xgb_new.predict(X_test_numpy)"
   ]
  },
  {
   "cell_type": "code",
   "execution_count": 56,
   "metadata": {},
   "outputs": [
    {
     "data": {
      "text/plain": [
       "array([[27983,  7042],\n",
       "       [  558,  1917]])"
      ]
     },
     "execution_count": 56,
     "metadata": {},
     "output_type": "execute_result"
    }
   ],
   "source": [
    "confusion_matrix(y_test_numpy,y_predict)\n",
    "# TN (0,0), FP(0,0)\n",
    "# FN (1,0), TP (1,1)"
   ]
  },
  {
   "cell_type": "code",
   "execution_count": 57,
   "metadata": {},
   "outputs": [
    {
     "name": "stdout",
     "output_type": "stream",
     "text": [
      "              precision    recall  f1-score   support\n",
      "\n",
      "  no default       0.98      0.80      0.88     35025\n",
      "     default       0.21      0.77      0.34      2475\n",
      "\n",
      "    accuracy                           0.80     37500\n",
      "   macro avg       0.60      0.79      0.61     37500\n",
      "weighted avg       0.93      0.80      0.84     37500\n",
      "\n"
     ]
    }
   ],
   "source": [
    "print(classification_report(y_test_numpy,y_predict, target_names=target_names))"
   ]
  },
  {
   "cell_type": "markdown",
   "metadata": {},
   "source": [
    "Recall score for default increase to 0.77 after taking the class weight into account."
   ]
  },
  {
   "cell_type": "markdown",
   "metadata": {},
   "source": [
    "### How i validate my model and why i choose such evaluation technique:\n",
    "Reason as to why i choose Recall for Default class as my main evaluation metrics, is because in this situation of predicting the probability that someone will experience financial distress in the next 2 years ( or to default ), the main person who will benefit from this model are the banks, because they use it to gauge if the borrowers will return back the loan. They would have to balance between gaining interest from loans or the risk of the borrower defaulting on the loan. The latter would have a greater impact on the bank as the amount dealing here is alot more than the interest gains. Hence, the goal would be to reduce the number of False Negatives ( the actual label is Default but the model predicts it as no default ) so that the banks would get less borrowers who default on their loans and that would then increase the recall score, the main evaluation metrics to be used in banks' credit scoring algorithm.\n",
    "\n",
    "Finally, as the goal of the competion is to build a model that borrowers can use to help make the best financial decisions, by having a model in the best interests of a bank for them to test out the different financial decisions could give them a better overview of their credit score ( leaning to low or high based on their risk of default ).\n"
   ]
  },
  {
   "cell_type": "code",
   "execution_count": 58,
   "metadata": {},
   "outputs": [],
   "source": [
    "from sklearn.model_selection import GridSearchCV"
   ]
  },
  {
   "cell_type": "code",
   "execution_count": 59,
   "metadata": {},
   "outputs": [],
   "source": [
    "# gridsearch \n",
    "grid = {\"n_estimators\": [10,50,100],\n",
    "        \"max_depth\": [6,10,20],\n",
    "        \"learning_rate\": [0.05,0.2,0.5,0.75]\n",
    "       }"
   ]
  },
  {
   "cell_type": "code",
   "execution_count": 60,
   "metadata": {},
   "outputs": [],
   "source": [
    "xgb_new = XGBClassifier(scale_pos_weight= scale_pos_weight)\n",
    "xgb_cv = GridSearchCV(xgb_new, grid, cv = 5, scoring= \"recall\")"
   ]
  },
  {
   "cell_type": "code",
   "execution_count": 61,
   "metadata": {},
   "outputs": [
    {
     "data": {
      "text/plain": [
       "GridSearchCV(cv=5, error_score='raise-deprecating',\n",
       "             estimator=XGBClassifier(base_score=0.5, booster='gbtree',\n",
       "                                     colsample_bylevel=1, colsample_bytree=1,\n",
       "                                     gamma=0, learning_rate=0.1,\n",
       "                                     max_delta_step=0, max_depth=3,\n",
       "                                     min_child_weight=1, missing=None,\n",
       "                                     n_estimators=100, n_jobs=1, nthread=None,\n",
       "                                     objective='binary:logistic',\n",
       "                                     random_state=0, reg_alpha=0, reg_lambda=1,\n",
       "                                     scale_pos_weight=13.898688915375446,\n",
       "                                     seed=None, silent=True, subsample=1),\n",
       "             iid='warn', n_jobs=None,\n",
       "             param_grid={'learning_rate': [0.05, 0.2, 0.5, 0.75],\n",
       "                         'max_depth': [6, 10, 20],\n",
       "                         'n_estimators': [10, 50, 100]},\n",
       "             pre_dispatch='2*n_jobs', refit=True, return_train_score=False,\n",
       "             scoring='recall', verbose=0)"
      ]
     },
     "execution_count": 61,
     "metadata": {},
     "output_type": "execute_result"
    }
   ],
   "source": [
    "xgb_cv.fit(X_train_numpy, y_train_numpy)"
   ]
  },
  {
   "cell_type": "code",
   "execution_count": 63,
   "metadata": {},
   "outputs": [
    {
     "data": {
      "text/plain": [
       "{'learning_rate': 0.05, 'max_depth': 6, 'n_estimators': 50}"
      ]
     },
     "execution_count": 63,
     "metadata": {},
     "output_type": "execute_result"
    }
   ],
   "source": [
    "xgb_cv.best_params_"
   ]
  },
  {
   "cell_type": "code",
   "execution_count": 64,
   "metadata": {},
   "outputs": [],
   "source": [
    "# using the model with the best parameters \n",
    "y_pred_cv = xgb_cv.best_estimator_.predict(X_test_numpy)"
   ]
  },
  {
   "cell_type": "code",
   "execution_count": 65,
   "metadata": {},
   "outputs": [
    {
     "data": {
      "text/plain": [
       "array([[27760,  7265],\n",
       "       [  556,  1919]])"
      ]
     },
     "execution_count": 65,
     "metadata": {},
     "output_type": "execute_result"
    }
   ],
   "source": [
    "confusion_matrix(y_test_numpy,y_pred_cv)\n",
    "# TN (0,0), FP(0,0)\n",
    "# FN (1,0), TP (1,1)"
   ]
  },
  {
   "cell_type": "code",
   "execution_count": 66,
   "metadata": {},
   "outputs": [
    {
     "name": "stdout",
     "output_type": "stream",
     "text": [
      "              precision    recall  f1-score   support\n",
      "\n",
      "  no default       0.98      0.79      0.88     35025\n",
      "     default       0.21      0.78      0.33      2475\n",
      "\n",
      "    accuracy                           0.79     37500\n",
      "   macro avg       0.59      0.78      0.60     37500\n",
      "weighted avg       0.93      0.79      0.84     37500\n",
      "\n"
     ]
    }
   ],
   "source": [
    "print(classification_report(y_test_numpy,y_pred_cv, target_names=target_names))"
   ]
  },
  {
   "cell_type": "markdown",
   "metadata": {},
   "source": [
    "Using gridsearch to find the best parameters, it push up the recall score from 0.77 to 0.78."
   ]
  },
  {
   "cell_type": "code",
   "execution_count": 67,
   "metadata": {},
   "outputs": [],
   "source": [
    "from xgboost import plot_importance"
   ]
  },
  {
   "cell_type": "code",
   "execution_count": 68,
   "metadata": {},
   "outputs": [
    {
     "data": {
      "text/plain": [
       "<matplotlib.axes._subplots.AxesSubplot at 0x7ffc3237cb70>"
      ]
     },
     "execution_count": 68,
     "metadata": {},
     "output_type": "execute_result"
    },
    {
     "data": {
      "image/png": "[encoded data removed]",
      "text/plain": [
       "<Figure size 432x288 with 1 Axes>"
      ]
     },
     "metadata": {
      "needs_background": "light"
     },
     "output_type": "display_data"
    }
   ],
   "source": [
    "plot_importance(xgb_cv.best_estimator_) # feature importance "
   ]
  },
  {
   "cell_type": "code",
   "execution_count": 69,
   "metadata": {},
   "outputs": [
    {
     "data": {
      "text/plain": [
       "{'RevolvingUtilizationOfUnsecuredLines': 0,\n",
       " 'age': 1,\n",
       " 'NumberOfTime30-59DaysPastDueNotWorse': 2,\n",
       " 'DebtRatio': 3,\n",
       " 'MonthlyIncome': 4,\n",
       " 'NumberOfOpenCreditLinesAndLoans': 5,\n",
       " 'NumberOfTimes90DaysLate': 6,\n",
       " 'NumberRealEstateLoansOrLines': 7,\n",
       " 'NumberOfTime60-89DaysPastDueNotWorse': 8,\n",
       " 'NumberOfDependents': 9}"
      ]
     },
     "execution_count": 69,
     "metadata": {},
     "output_type": "execute_result"
    }
   ],
   "source": [
    "dict(zip(list(X_train.columns), list(range(0,len(X_train)-1))))"
   ]
  },
  {
   "cell_type": "markdown",
   "metadata": {},
   "source": [
    "The top two significant features are : RevolvingUtilizationOfUnsecuredLines and DebtRatio"
   ]
  },
  {
   "cell_type": "markdown",
   "metadata": {},
   "source": [
    "# Q: What is AUC? Why do you think AUC was used as the evaluation metric for such a problem? What are other metric you think would also be suitable for this competition"
   ]
  },
  {
   "cell_type": "markdown",
   "metadata": {},
   "source": [
    "AUC stands for area under the curve , specifically for ROC curve that was plotted with TPR against FPR for every possible classification threshold. It tells you how much the model is capable of distinguishing between classes and it ranges from 0-1, with 1 indicating that the model is able to distinguish between the two classes perfectly while 0 means it is predicting wrongly(i.e the opposite class of its actual class) for all data points.\n",
    "\n",
    "For this binary classification problem, it would have summarised the model performance across different thresholds, whereas other evaluation metric such as accuracy ( number of correct predictions / total number of inputs sample ) is based on a single threshold ( usually the default threshold: 0.5). \n",
    "\n",
    "For this competition that has a severe class imbalance problem, another evaluation metric that would be more suitable than ROC-AUC curve, will be using precision-recall curves since ROC AUC will paint an overly glorified result. \n",
    "\n",
    "The difference is illustrated below:\n"
   ]
  },
  {
   "cell_type": "markdown",
   "metadata": {},
   "source": [
    "### ROC AUC "
   ]
  },
  {
   "cell_type": "code",
   "execution_count": 70,
   "metadata": {},
   "outputs": [],
   "source": [
    "from sklearn.metrics import roc_curve, auc\n"
   ]
  },
  {
   "cell_type": "code",
   "execution_count": 71,
   "metadata": {},
   "outputs": [],
   "source": [
    "y_pred_proba = xgb_cv.best_estimator_.predict_proba(X_test_numpy)"
   ]
  },
  {
   "cell_type": "code",
   "execution_count": 72,
   "metadata": {},
   "outputs": [
    {
     "data": {
      "text/plain": [
       "array([[0.87572956, 0.12427046],\n",
       "       [0.8431928 , 0.1568072 ],\n",
       "       [0.8654038 , 0.13459626],\n",
       "       ...,\n",
       "       [0.28440744, 0.71559256],\n",
       "       [0.6216339 , 0.3783661 ],\n",
       "       [0.8419826 , 0.15801743]], dtype=float32)"
      ]
     },
     "execution_count": 72,
     "metadata": {},
     "output_type": "execute_result"
    }
   ],
   "source": [
    "y_pred_proba"
   ]
  },
  {
   "cell_type": "code",
   "execution_count": 73,
   "metadata": {},
   "outputs": [
    {
     "data": {
      "text/plain": [
       "array([0.12427046, 0.1568072 , 0.13459626, ..., 0.71559256, 0.3783661 ,\n",
       "       0.15801743], dtype=float32)"
      ]
     },
     "execution_count": 73,
     "metadata": {},
     "output_type": "execute_result"
    }
   ],
   "source": [
    "y_pred_proba[:,1]"
   ]
  },
  {
   "cell_type": "code",
   "execution_count": 74,
   "metadata": {},
   "outputs": [],
   "source": [
    "fpr, tpr, _ = roc_curve(y_test_numpy, y_pred_proba[:,1])"
   ]
  },
  {
   "cell_type": "code",
   "execution_count": 75,
   "metadata": {},
   "outputs": [],
   "source": [
    "roc_auc = auc(fpr, tpr)"
   ]
  },
  {
   "cell_type": "code",
   "execution_count": 76,
   "metadata": {},
   "outputs": [
    {
     "data": {
      "text/plain": [
       "0.86130810460061"
      ]
     },
     "execution_count": 76,
     "metadata": {},
     "output_type": "execute_result"
    }
   ],
   "source": [
    "roc_auc"
   ]
  },
  {
   "cell_type": "code",
   "execution_count": 77,
   "metadata": {
    "scrolled": true
   },
   "outputs": [
    {
     "data": {
      "text/plain": [
       "<matplotlib.legend.Legend at 0x7ffc1c66b518>"
      ]
     },
     "execution_count": 77,
     "metadata": {},
     "output_type": "execute_result"
    },
    {
     "data": {
      "image/png": "[encoded data removed]",
      "text/plain": [
       "<Figure size 432x288 with 1 Axes>"
      ]
     },
     "metadata": {
      "needs_background": "light"
     },
     "output_type": "display_data"
    }
   ],
   "source": [
    "plt.figure()\n",
    "lw =2 \n",
    "plt.plot([0, 1], [0, 1], color='navy', lw=lw, linestyle='--')\n",
    "plt.xlabel('False Positive Rate')\n",
    "plt.ylabel('True Positive Rate')\n",
    "plt.title('Receiver operating characteristic for predicting default')\n",
    "plt.plot(fpr, tpr,\n",
    "        lw=lw, label='ROC curve for \\'%s\\' (area = %0.2f)' % (\"default\",roc_auc))\n",
    "    \n",
    "plt.legend(loc=\"lower right\")"
   ]
  },
  {
   "cell_type": "markdown",
   "metadata": {},
   "source": [
    "High AUC results of 0.86"
   ]
  },
  {
   "cell_type": "markdown",
   "metadata": {},
   "source": [
    "### Precision and Recall AUC"
   ]
  },
  {
   "cell_type": "code",
   "execution_count": 78,
   "metadata": {},
   "outputs": [],
   "source": [
    "from sklearn.metrics import precision_recall_curve"
   ]
  },
  {
   "cell_type": "code",
   "execution_count": 79,
   "metadata": {},
   "outputs": [
    {
     "data": {
      "text/plain": [
       "(array([0, 1]), array([35025,  2475]))"
      ]
     },
     "execution_count": 79,
     "metadata": {},
     "output_type": "execute_result"
    }
   ],
   "source": [
    "np.unique(y_test_numpy, return_counts = True)"
   ]
  },
  {
   "cell_type": "code",
   "execution_count": 80,
   "metadata": {},
   "outputs": [],
   "source": [
    "precision, recall, _ = precision_recall_curve(y_test_numpy, y_pred_proba[:,1])"
   ]
  },
  {
   "cell_type": "code",
   "execution_count": 81,
   "metadata": {},
   "outputs": [
    {
     "data": {
      "text/plain": [
       "array([0.066     , 0.06744884, 0.06766856, ..., 1.        , 1.        ,\n",
       "       1.        ])"
      ]
     },
     "execution_count": 81,
     "metadata": {},
     "output_type": "execute_result"
    }
   ],
   "source": [
    "precision"
   ]
  },
  {
   "cell_type": "code",
   "execution_count": 82,
   "metadata": {},
   "outputs": [],
   "source": [
    "pr_auc = auc(recall, precision)"
   ]
  },
  {
   "cell_type": "code",
   "execution_count": 83,
   "metadata": {},
   "outputs": [
    {
     "data": {
      "text/plain": [
       "0.38920461029879844"
      ]
     },
     "execution_count": 83,
     "metadata": {},
     "output_type": "execute_result"
    }
   ],
   "source": [
    "pr_auc"
   ]
  },
  {
   "cell_type": "code",
   "execution_count": 84,
   "metadata": {},
   "outputs": [
    {
     "data": {
      "text/plain": [
       "<matplotlib.legend.Legend at 0x7ffc1a42fe80>"
      ]
     },
     "execution_count": 84,
     "metadata": {},
     "output_type": "execute_result"
    },
    {
     "data": {
      "image/png": "[encoded data removed]",
      "text/plain": [
       "<Figure size 432x288 with 1 Axes>"
      ]
     },
     "metadata": {
      "needs_background": "light"
     },
     "output_type": "display_data"
    }
   ],
   "source": [
    "plt.figure()\n",
    "lw =2 \n",
    "plt.xlabel('Recall')\n",
    "plt.ylabel('Precision')\n",
    "plt.title('Receiver operating characteristic for predicting default')\n",
    "plt.plot(recall, precision,\n",
    "        lw=lw, label='ROC curve for \\'%s\\' (area = %0.2f)' % (\"default\",pr_auc))\n",
    "    \n",
    "plt.legend(loc=\"lower right\")"
   ]
  },
  {
   "cell_type": "markdown",
   "metadata": {},
   "source": [
    "However for PR AUC , the AUC is lower, showing that the model is not as good as we thought for predicting default.\n",
    "\n",
    "Hence, ROC AUC may be a good evaluation metrics for most problems especially when it has an equal class distribution. For this competition, due to the imbalanced class distribution, it would be good to base the evaluation on the model on other aspect, or perhaps fitting it more to what the end users of the model would want. As discussed in the previous section, I chose to focus on increasing Recall score as the loss from False Negatives ( people who are predicted as non defaulters but actually they defaulted ) far outweighs the gains from the interests earned by the bank when they give out loans."
   ]
  },
  {
   "cell_type": "markdown",
   "metadata": {},
   "source": [
    "# Q: Can you get into the top 100 of the private leaderboard, or even higher?"
   ]
  },
  {
   "cell_type": "markdown",
   "metadata": {},
   "source": [
    "No. There is always room for improvement if i were to focus on getting the best ROC AUC score and some actions i would have taken includes, having a more extensive gridsearch, exploring other models."
   ]
  },
  {
   "cell_type": "markdown",
   "metadata": {},
   "source": [
    "# Try 2 \n",
    "- Clustering to find a suitable value to fill in the na values "
   ]
  },
  {
   "cell_type": "code",
   "execution_count": 85,
   "metadata": {},
   "outputs": [
    {
     "name": "stdout",
     "output_type": "stream",
     "text": [
      "<class 'pandas.core.frame.DataFrame'>\n",
      "Int64Index: 112500 entries, 92988 to 121958\n",
      "Data columns (total 10 columns):\n",
      "RevolvingUtilizationOfUnsecuredLines    112500 non-null float64\n",
      "age                                     112500 non-null int64\n",
      "NumberOfTime30-59DaysPastDueNotWorse    112500 non-null int64\n",
      "DebtRatio                               112500 non-null float64\n",
      "MonthlyIncome                           90223 non-null float64\n",
      "NumberOfOpenCreditLinesAndLoans         112500 non-null int64\n",
      "NumberOfTimes90DaysLate                 112500 non-null int64\n",
      "NumberRealEstateLoansOrLines            112500 non-null int64\n",
      "NumberOfTime60-89DaysPastDueNotWorse    112500 non-null int64\n",
      "NumberOfDependents                      109562 non-null float64\n",
      "dtypes: float64(4), int64(6)\n",
      "memory usage: 9.4 MB\n"
     ]
    }
   ],
   "source": [
    "X_train.info()"
   ]
  },
  {
   "cell_type": "code",
   "execution_count": 86,
   "metadata": {},
   "outputs": [
    {
     "data": {
      "text/plain": [
       "Index(['RevolvingUtilizationOfUnsecuredLines', 'age',\n",
       "       'NumberOfTime30-59DaysPastDueNotWorse', 'DebtRatio', 'MonthlyIncome',\n",
       "       'NumberOfOpenCreditLinesAndLoans', 'NumberOfTimes90DaysLate',\n",
       "       'NumberRealEstateLoansOrLines', 'NumberOfTime60-89DaysPastDueNotWorse',\n",
       "       'NumberOfDependents'],\n",
       "      dtype='object')"
      ]
     },
     "execution_count": 86,
     "metadata": {},
     "output_type": "execute_result"
    }
   ],
   "source": [
    "X_train.columns"
   ]
  },
  {
   "cell_type": "code",
   "execution_count": 87,
   "metadata": {},
   "outputs": [],
   "source": [
    "from sklearn.cluster import KMeans"
   ]
  },
  {
   "cell_type": "code",
   "execution_count": 88,
   "metadata": {},
   "outputs": [],
   "source": [
    "# do a simple k means with k = 5\n",
    "# given more time to explore, perhaps using elbow method to decide for best k can be carried out "
   ]
  },
  {
   "cell_type": "code",
   "execution_count": 89,
   "metadata": {},
   "outputs": [],
   "source": [
    "def get_median_cluster(cluster_lst, df, colname):\n",
    "    \"\"\"\n",
    "    get the median given the colname of the dataframe for different cluster and return it in dictionary form\n",
    "    \n",
    "    Params:\n",
    "    -------\n",
    "    cluster_lst : list of integers\n",
    "    df : pandas dataframe\n",
    "    colname: string \n",
    "    \n",
    "    Return:\n",
    "    -------\n",
    "    dictionary in the form of:\n",
    "    e.g {\n",
    "            <cluster_i> : <median_of_cluster_i>,\n",
    "            .....\n",
    "    }\n",
    "    \n",
    "    \"\"\"\n",
    "    dct = {}\n",
    "    for cluster_i in cluster_lst:\n",
    "        df_cluster_subset = df[df[\"cluster\"] == cluster_i]\n",
    "        cluster_median = df_cluster_subset[colname].median()\n",
    "        dct[cluster_i] = cluster_median\n",
    "    \n",
    "    return dct\n",
    "        "
   ]
  },
  {
   "cell_type": "code",
   "execution_count": 90,
   "metadata": {},
   "outputs": [],
   "source": [
    "def clustering_median_method(X, columns_lst, k):\n",
    "    \"\"\"\n",
    "    runs the whole method of getting the median for missing columns based on cluster's median\n",
    "    \n",
    "    Params:\n",
    "    -------\n",
    "    X: pandas dataframe\n",
    "    columns_lst: list of colnames (string)\n",
    "    k: number of clusters\n",
    "    \n",
    "    Returns\n",
    "    -------\n",
    "    pandas dataframe with na filled \n",
    "    \"\"\"\n",
    "    \n",
    "    # step 1: Split the dataframe in those with na value and no na value \n",
    "    X_nona = X.dropna()\n",
    "    X_na = X[~X.index.isin(list(X_nona.index))]\n",
    "    \n",
    "    # step 2: get columns to remain for clustering \n",
    "    clustering_columns = [col for col in list(X.columns) if col not in columns_lst]\n",
    "    \n",
    "    # Step 3: train clustering model \n",
    "    X_clustering = X_nona[clustering_columns]\n",
    "    kmeans = KMeans(n_clusters=k, random_state=0).fit(X_clustering)\n",
    "    \n",
    "    # step 4: get the cluster labels \n",
    "    X_nona[\"cluster\"] = kmeans.labels_\n",
    "    cluster_lst = list(np.unique(kmeans.labels_, return_counts = True)[0] )\n",
    "    \n",
    "    # step 5: get dictionary of cluster and the median for each column\n",
    "    for column in columns_lst:\n",
    "        median_cluster_dict = get_median_cluster(cluster_lst, X_nona, column)\n",
    "        X_na_clustering = X_na[clustering_columns]\n",
    "        cluster_labels = kmeans.predict(X_na_clustering)\n",
    "        X_na[\"cluster\"]= cluster_labels\n",
    "        X_na[column] = X_na.apply(lambda x: median_cluster_dict[x[\"cluster\"]], axis = 1)\n",
    "    final_df = pd.concat([X_nona, X_na])\n",
    "    return final_df\n",
    "    \n",
    "    \n",
    "    "
   ]
  },
  {
   "cell_type": "code",
   "execution_count": 91,
   "metadata": {},
   "outputs": [
    {
     "name": "stderr",
     "output_type": "stream",
     "text": [
      "/Users/shetoh/PythonDev/pythonML/lib/python3.7/site-packages/ipykernel_launcher.py:28: SettingWithCopyWarning: \n",
      "A value is trying to be set on a copy of a slice from a DataFrame.\n",
      "Try using .loc[row_indexer,col_indexer] = value instead\n",
      "\n",
      "See the caveats in the documentation: http://pandas.pydata.org/pandas-docs/stable/user_guide/indexing.html#returning-a-view-versus-a-copy\n",
      "/Users/shetoh/PythonDev/pythonML/lib/python3.7/site-packages/ipykernel_launcher.py:36: SettingWithCopyWarning: \n",
      "A value is trying to be set on a copy of a slice from a DataFrame.\n",
      "Try using .loc[row_indexer,col_indexer] = value instead\n",
      "\n",
      "See the caveats in the documentation: http://pandas.pydata.org/pandas-docs/stable/user_guide/indexing.html#returning-a-view-versus-a-copy\n",
      "/Users/shetoh/PythonDev/pythonML/lib/python3.7/site-packages/ipykernel_launcher.py:37: SettingWithCopyWarning: \n",
      "A value is trying to be set on a copy of a slice from a DataFrame.\n",
      "Try using .loc[row_indexer,col_indexer] = value instead\n",
      "\n",
      "See the caveats in the documentation: http://pandas.pydata.org/pandas-docs/stable/user_guide/indexing.html#returning-a-view-versus-a-copy\n",
      "/Users/shetoh/PythonDev/pythonML/lib/python3.7/site-packages/ipykernel_launcher.py:36: SettingWithCopyWarning: \n",
      "A value is trying to be set on a copy of a slice from a DataFrame.\n",
      "Try using .loc[row_indexer,col_indexer] = value instead\n",
      "\n",
      "See the caveats in the documentation: http://pandas.pydata.org/pandas-docs/stable/user_guide/indexing.html#returning-a-view-versus-a-copy\n",
      "/Users/shetoh/PythonDev/pythonML/lib/python3.7/site-packages/ipykernel_launcher.py:37: SettingWithCopyWarning: \n",
      "A value is trying to be set on a copy of a slice from a DataFrame.\n",
      "Try using .loc[row_indexer,col_indexer] = value instead\n",
      "\n",
      "See the caveats in the documentation: http://pandas.pydata.org/pandas-docs/stable/user_guide/indexing.html#returning-a-view-versus-a-copy\n"
     ]
    }
   ],
   "source": [
    "X_train_try2 = clustering_median_method(X_train, [\"MonthlyIncome\",\"NumberOfDependents\"], 5)"
   ]
  },
  {
   "cell_type": "code",
   "execution_count": 92,
   "metadata": {},
   "outputs": [
    {
     "name": "stdout",
     "output_type": "stream",
     "text": [
      "<class 'pandas.core.frame.DataFrame'>\n",
      "Int64Index: 112500 entries, 92988 to 103694\n",
      "Data columns (total 11 columns):\n",
      "RevolvingUtilizationOfUnsecuredLines    112500 non-null float64\n",
      "age                                     112500 non-null int64\n",
      "NumberOfTime30-59DaysPastDueNotWorse    112500 non-null int64\n",
      "DebtRatio                               112500 non-null float64\n",
      "MonthlyIncome                           112500 non-null float64\n",
      "NumberOfOpenCreditLinesAndLoans         112500 non-null int64\n",
      "NumberOfTimes90DaysLate                 112500 non-null int64\n",
      "NumberRealEstateLoansOrLines            112500 non-null int64\n",
      "NumberOfTime60-89DaysPastDueNotWorse    112500 non-null int64\n",
      "NumberOfDependents                      112500 non-null float64\n",
      "cluster                                 112500 non-null int32\n",
      "dtypes: float64(4), int32(1), int64(6)\n",
      "memory usage: 9.9 MB\n"
     ]
    }
   ],
   "source": [
    "X_train_try2.info()"
   ]
  },
  {
   "cell_type": "code",
   "execution_count": 93,
   "metadata": {},
   "outputs": [
    {
     "name": "stdout",
     "output_type": "stream",
     "text": [
      "<class 'pandas.core.frame.DataFrame'>\n",
      "Int64Index: 37500 entries, 59770 to 40589\n",
      "Data columns (total 10 columns):\n",
      "RevolvingUtilizationOfUnsecuredLines    37500 non-null float64\n",
      "age                                     37500 non-null int64\n",
      "NumberOfTime30-59DaysPastDueNotWorse    37500 non-null int64\n",
      "DebtRatio                               37500 non-null float64\n",
      "MonthlyIncome                           30046 non-null float64\n",
      "NumberOfOpenCreditLinesAndLoans         37500 non-null int64\n",
      "NumberOfTimes90DaysLate                 37500 non-null int64\n",
      "NumberRealEstateLoansOrLines            37500 non-null int64\n",
      "NumberOfTime60-89DaysPastDueNotWorse    37500 non-null int64\n",
      "NumberOfDependents                      36514 non-null float64\n",
      "dtypes: float64(4), int64(6)\n",
      "memory usage: 3.1 MB\n"
     ]
    }
   ],
   "source": [
    "X_test.info()"
   ]
  },
  {
   "cell_type": "code",
   "execution_count": 94,
   "metadata": {
    "scrolled": true
   },
   "outputs": [
    {
     "name": "stderr",
     "output_type": "stream",
     "text": [
      "/Users/shetoh/PythonDev/pythonML/lib/python3.7/site-packages/ipykernel_launcher.py:28: SettingWithCopyWarning: \n",
      "A value is trying to be set on a copy of a slice from a DataFrame.\n",
      "Try using .loc[row_indexer,col_indexer] = value instead\n",
      "\n",
      "See the caveats in the documentation: http://pandas.pydata.org/pandas-docs/stable/user_guide/indexing.html#returning-a-view-versus-a-copy\n",
      "/Users/shetoh/PythonDev/pythonML/lib/python3.7/site-packages/ipykernel_launcher.py:36: SettingWithCopyWarning: \n",
      "A value is trying to be set on a copy of a slice from a DataFrame.\n",
      "Try using .loc[row_indexer,col_indexer] = value instead\n",
      "\n",
      "See the caveats in the documentation: http://pandas.pydata.org/pandas-docs/stable/user_guide/indexing.html#returning-a-view-versus-a-copy\n",
      "/Users/shetoh/PythonDev/pythonML/lib/python3.7/site-packages/ipykernel_launcher.py:37: SettingWithCopyWarning: \n",
      "A value is trying to be set on a copy of a slice from a DataFrame.\n",
      "Try using .loc[row_indexer,col_indexer] = value instead\n",
      "\n",
      "See the caveats in the documentation: http://pandas.pydata.org/pandas-docs/stable/user_guide/indexing.html#returning-a-view-versus-a-copy\n",
      "/Users/shetoh/PythonDev/pythonML/lib/python3.7/site-packages/ipykernel_launcher.py:36: SettingWithCopyWarning: \n",
      "A value is trying to be set on a copy of a slice from a DataFrame.\n",
      "Try using .loc[row_indexer,col_indexer] = value instead\n",
      "\n",
      "See the caveats in the documentation: http://pandas.pydata.org/pandas-docs/stable/user_guide/indexing.html#returning-a-view-versus-a-copy\n",
      "/Users/shetoh/PythonDev/pythonML/lib/python3.7/site-packages/ipykernel_launcher.py:37: SettingWithCopyWarning: \n",
      "A value is trying to be set on a copy of a slice from a DataFrame.\n",
      "Try using .loc[row_indexer,col_indexer] = value instead\n",
      "\n",
      "See the caveats in the documentation: http://pandas.pydata.org/pandas-docs/stable/user_guide/indexing.html#returning-a-view-versus-a-copy\n"
     ]
    }
   ],
   "source": [
    "# do the same on testing set \n",
    "X_test_try2 = clustering_median_method(X_test, [\"MonthlyIncome\",\"NumberOfDependents\"], 5)"
   ]
  },
  {
   "cell_type": "code",
   "execution_count": 95,
   "metadata": {},
   "outputs": [
    {
     "name": "stdout",
     "output_type": "stream",
     "text": [
      "<class 'pandas.core.frame.DataFrame'>\n",
      "Int64Index: 37500 entries, 59770 to 135907\n",
      "Data columns (total 11 columns):\n",
      "RevolvingUtilizationOfUnsecuredLines    37500 non-null float64\n",
      "age                                     37500 non-null int64\n",
      "NumberOfTime30-59DaysPastDueNotWorse    37500 non-null int64\n",
      "DebtRatio                               37500 non-null float64\n",
      "MonthlyIncome                           37500 non-null float64\n",
      "NumberOfOpenCreditLinesAndLoans         37500 non-null int64\n",
      "NumberOfTimes90DaysLate                 37500 non-null int64\n",
      "NumberRealEstateLoansOrLines            37500 non-null int64\n",
      "NumberOfTime60-89DaysPastDueNotWorse    37500 non-null int64\n",
      "NumberOfDependents                      37500 non-null float64\n",
      "cluster                                 37500 non-null int32\n",
      "dtypes: float64(4), int32(1), int64(6)\n",
      "memory usage: 3.3 MB\n"
     ]
    }
   ],
   "source": [
    "X_test_try2.info()"
   ]
  },
  {
   "cell_type": "code",
   "execution_count": 96,
   "metadata": {},
   "outputs": [
    {
     "data": {
      "text/html": [
       "<div>\n",
       "<style scoped>\n",
       "    .dataframe tbody tr th:only-of-type {\n",
       "        vertical-align: middle;\n",
       "    }\n",
       "\n",
       "    .dataframe tbody tr th {\n",
       "        vertical-align: top;\n",
       "    }\n",
       "\n",
       "    .dataframe thead th {\n",
       "        text-align: right;\n",
       "    }\n",
       "</style>\n",
       "<table border=\"1\" class=\"dataframe\">\n",
       "  <thead>\n",
       "    <tr style=\"text-align: right;\">\n",
       "      <th></th>\n",
       "      <th>RevolvingUtilizationOfUnsecuredLines</th>\n",
       "      <th>age</th>\n",
       "      <th>NumberOfTime30-59DaysPastDueNotWorse</th>\n",
       "      <th>DebtRatio</th>\n",
       "      <th>MonthlyIncome</th>\n",
       "      <th>NumberOfOpenCreditLinesAndLoans</th>\n",
       "      <th>NumberOfTimes90DaysLate</th>\n",
       "      <th>NumberRealEstateLoansOrLines</th>\n",
       "      <th>NumberOfTime60-89DaysPastDueNotWorse</th>\n",
       "      <th>NumberOfDependents</th>\n",
       "      <th>cluster</th>\n",
       "    </tr>\n",
       "  </thead>\n",
       "  <tbody>\n",
       "    <tr>\n",
       "      <td>92988</td>\n",
       "      <td>0.182486</td>\n",
       "      <td>53</td>\n",
       "      <td>0</td>\n",
       "      <td>0.217973</td>\n",
       "      <td>8000.0</td>\n",
       "      <td>8</td>\n",
       "      <td>0</td>\n",
       "      <td>1</td>\n",
       "      <td>0</td>\n",
       "      <td>2.0</td>\n",
       "      <td>0</td>\n",
       "    </tr>\n",
       "    <tr>\n",
       "      <td>43658</td>\n",
       "      <td>0.000916</td>\n",
       "      <td>45</td>\n",
       "      <td>0</td>\n",
       "      <td>0.238913</td>\n",
       "      <td>28750.0</td>\n",
       "      <td>7</td>\n",
       "      <td>0</td>\n",
       "      <td>3</td>\n",
       "      <td>0</td>\n",
       "      <td>2.0</td>\n",
       "      <td>0</td>\n",
       "    </tr>\n",
       "    <tr>\n",
       "      <td>110698</td>\n",
       "      <td>0.149620</td>\n",
       "      <td>58</td>\n",
       "      <td>0</td>\n",
       "      <td>0.101878</td>\n",
       "      <td>9000.0</td>\n",
       "      <td>7</td>\n",
       "      <td>0</td>\n",
       "      <td>0</td>\n",
       "      <td>0</td>\n",
       "      <td>0.0</td>\n",
       "      <td>0</td>\n",
       "    </tr>\n",
       "    <tr>\n",
       "      <td>77130</td>\n",
       "      <td>1.000000</td>\n",
       "      <td>22</td>\n",
       "      <td>0</td>\n",
       "      <td>0.000000</td>\n",
       "      <td>929.0</td>\n",
       "      <td>1</td>\n",
       "      <td>0</td>\n",
       "      <td>0</td>\n",
       "      <td>0</td>\n",
       "      <td>0.0</td>\n",
       "      <td>0</td>\n",
       "    </tr>\n",
       "    <tr>\n",
       "      <td>109216</td>\n",
       "      <td>0.057441</td>\n",
       "      <td>33</td>\n",
       "      <td>0</td>\n",
       "      <td>0.428893</td>\n",
       "      <td>4000.0</td>\n",
       "      <td>6</td>\n",
       "      <td>0</td>\n",
       "      <td>1</td>\n",
       "      <td>0</td>\n",
       "      <td>4.0</td>\n",
       "      <td>0</td>\n",
       "    </tr>\n",
       "    <tr>\n",
       "      <td>...</td>\n",
       "      <td>...</td>\n",
       "      <td>...</td>\n",
       "      <td>...</td>\n",
       "      <td>...</td>\n",
       "      <td>...</td>\n",
       "      <td>...</td>\n",
       "      <td>...</td>\n",
       "      <td>...</td>\n",
       "      <td>...</td>\n",
       "      <td>...</td>\n",
       "      <td>...</td>\n",
       "    </tr>\n",
       "    <tr>\n",
       "      <td>123855</td>\n",
       "      <td>0.055973</td>\n",
       "      <td>37</td>\n",
       "      <td>0</td>\n",
       "      <td>2987.000000</td>\n",
       "      <td>0.0</td>\n",
       "      <td>9</td>\n",
       "      <td>0</td>\n",
       "      <td>1</td>\n",
       "      <td>0</td>\n",
       "      <td>1.0</td>\n",
       "      <td>2</td>\n",
       "    </tr>\n",
       "    <tr>\n",
       "      <td>84478</td>\n",
       "      <td>0.000000</td>\n",
       "      <td>74</td>\n",
       "      <td>0</td>\n",
       "      <td>0.000000</td>\n",
       "      <td>5410.0</td>\n",
       "      <td>1</td>\n",
       "      <td>0</td>\n",
       "      <td>0</td>\n",
       "      <td>0</td>\n",
       "      <td>0.0</td>\n",
       "      <td>0</td>\n",
       "    </tr>\n",
       "    <tr>\n",
       "      <td>126324</td>\n",
       "      <td>0.005531</td>\n",
       "      <td>45</td>\n",
       "      <td>0</td>\n",
       "      <td>3157.000000</td>\n",
       "      <td>0.0</td>\n",
       "      <td>6</td>\n",
       "      <td>0</td>\n",
       "      <td>1</td>\n",
       "      <td>0</td>\n",
       "      <td>1.0</td>\n",
       "      <td>2</td>\n",
       "    </tr>\n",
       "    <tr>\n",
       "      <td>54886</td>\n",
       "      <td>0.001243</td>\n",
       "      <td>66</td>\n",
       "      <td>0</td>\n",
       "      <td>396.000000</td>\n",
       "      <td>5410.0</td>\n",
       "      <td>4</td>\n",
       "      <td>0</td>\n",
       "      <td>0</td>\n",
       "      <td>0</td>\n",
       "      <td>0.0</td>\n",
       "      <td>0</td>\n",
       "    </tr>\n",
       "    <tr>\n",
       "      <td>103694</td>\n",
       "      <td>0.087697</td>\n",
       "      <td>67</td>\n",
       "      <td>1</td>\n",
       "      <td>1781.000000</td>\n",
       "      <td>0.0</td>\n",
       "      <td>10</td>\n",
       "      <td>0</td>\n",
       "      <td>1</td>\n",
       "      <td>0</td>\n",
       "      <td>1.0</td>\n",
       "      <td>2</td>\n",
       "    </tr>\n",
       "  </tbody>\n",
       "</table>\n",
       "<p>112500 rows × 11 columns</p>\n",
       "</div>"
      ],
      "text/plain": [
       "        RevolvingUtilizationOfUnsecuredLines  age  \\\n",
       "92988                               0.182486   53   \n",
       "43658                               0.000916   45   \n",
       "110698                              0.149620   58   \n",
       "77130                               1.000000   22   \n",
       "109216                              0.057441   33   \n",
       "...                                      ...  ...   \n",
       "123855                              0.055973   37   \n",
       "84478                               0.000000   74   \n",
       "126324                              0.005531   45   \n",
       "54886                               0.001243   66   \n",
       "103694                              0.087697   67   \n",
       "\n",
       "        NumberOfTime30-59DaysPastDueNotWorse    DebtRatio  MonthlyIncome  \\\n",
       "92988                                      0     0.217973         8000.0   \n",
       "43658                                      0     0.238913        28750.0   \n",
       "110698                                     0     0.101878         9000.0   \n",
       "77130                                      0     0.000000          929.0   \n",
       "109216                                     0     0.428893         4000.0   \n",
       "...                                      ...          ...            ...   \n",
       "123855                                     0  2987.000000            0.0   \n",
       "84478                                      0     0.000000         5410.0   \n",
       "126324                                     0  3157.000000            0.0   \n",
       "54886                                      0   396.000000         5410.0   \n",
       "103694                                     1  1781.000000            0.0   \n",
       "\n",
       "        NumberOfOpenCreditLinesAndLoans  NumberOfTimes90DaysLate  \\\n",
       "92988                                 8                        0   \n",
       "43658                                 7                        0   \n",
       "110698                                7                        0   \n",
       "77130                                 1                        0   \n",
       "109216                                6                        0   \n",
       "...                                 ...                      ...   \n",
       "123855                                9                        0   \n",
       "84478                                 1                        0   \n",
       "126324                                6                        0   \n",
       "54886                                 4                        0   \n",
       "103694                               10                        0   \n",
       "\n",
       "        NumberRealEstateLoansOrLines  NumberOfTime60-89DaysPastDueNotWorse  \\\n",
       "92988                              1                                     0   \n",
       "43658                              3                                     0   \n",
       "110698                             0                                     0   \n",
       "77130                              0                                     0   \n",
       "109216                             1                                     0   \n",
       "...                              ...                                   ...   \n",
       "123855                             1                                     0   \n",
       "84478                              0                                     0   \n",
       "126324                             1                                     0   \n",
       "54886                              0                                     0   \n",
       "103694                             1                                     0   \n",
       "\n",
       "        NumberOfDependents  cluster  \n",
       "92988                  2.0        0  \n",
       "43658                  2.0        0  \n",
       "110698                 0.0        0  \n",
       "77130                  0.0        0  \n",
       "109216                 4.0        0  \n",
       "...                    ...      ...  \n",
       "123855                 1.0        2  \n",
       "84478                  0.0        0  \n",
       "126324                 1.0        2  \n",
       "54886                  0.0        0  \n",
       "103694                 1.0        2  \n",
       "\n",
       "[112500 rows x 11 columns]"
      ]
     },
     "execution_count": 96,
     "metadata": {},
     "output_type": "execute_result"
    }
   ],
   "source": [
    "X_train_try2"
   ]
  },
  {
   "cell_type": "code",
   "execution_count": 97,
   "metadata": {},
   "outputs": [],
   "source": [
    "X_train_try2_numpy = X_train_try2.to_numpy()\n",
    "y_train_try2_numpy = y_train.loc[X_train_try2.index].to_numpy()\n",
    "\n",
    "X_test_try2_numpy = X_test_try2.to_numpy()\n",
    "y_test_try2_numpy = y_test.loc[X_test_try2.index].to_numpy()\n"
   ]
  },
  {
   "cell_type": "markdown",
   "metadata": {},
   "source": [
    "## Modelling"
   ]
  },
  {
   "cell_type": "markdown",
   "metadata": {},
   "source": [
    "### XGBoost"
   ]
  },
  {
   "cell_type": "code",
   "execution_count": 98,
   "metadata": {},
   "outputs": [
    {
     "data": {
      "text/plain": [
       "XGBClassifier(base_score=0.5, booster='gbtree', colsample_bylevel=1,\n",
       "              colsample_bytree=1, gamma=0, learning_rate=0.1, max_delta_step=0,\n",
       "              max_depth=3, min_child_weight=1, missing=None, n_estimators=100,\n",
       "              n_jobs=1, nthread=None, objective='binary:logistic',\n",
       "              random_state=0, reg_alpha=0, reg_lambda=1,\n",
       "              scale_pos_weight=13.898688915375446, seed=None, silent=True,\n",
       "              subsample=1)"
      ]
     },
     "execution_count": 98,
     "metadata": {},
     "output_type": "execute_result"
    }
   ],
   "source": [
    "xgb_try2 = XGBClassifier(scale_pos_weight= scale_pos_weight) # using default params\n",
    "xgb_try2.fit(X_train_try2_numpy, y_train_try2_numpy)"
   ]
  },
  {
   "cell_type": "code",
   "execution_count": 99,
   "metadata": {},
   "outputs": [],
   "source": [
    "y_predict_try2 = xgb_try2.predict(X_test_try2_numpy)"
   ]
  },
  {
   "cell_type": "code",
   "execution_count": 100,
   "metadata": {},
   "outputs": [
    {
     "data": {
      "text/plain": [
       "array([[28035,  6990],\n",
       "       [  556,  1919]])"
      ]
     },
     "execution_count": 100,
     "metadata": {},
     "output_type": "execute_result"
    }
   ],
   "source": [
    "confusion_matrix(y_test_try2_numpy,y_predict_try2)\n",
    "# TN (0,0), FP(0,0)\n",
    "# FN (1,0), TP (1,1)"
   ]
  },
  {
   "cell_type": "code",
   "execution_count": 101,
   "metadata": {},
   "outputs": [
    {
     "name": "stdout",
     "output_type": "stream",
     "text": [
      "              precision    recall  f1-score   support\n",
      "\n",
      "  no default       0.98      0.80      0.88     35025\n",
      "     default       0.22      0.78      0.34      2475\n",
      "\n",
      "    accuracy                           0.80     37500\n",
      "   macro avg       0.60      0.79      0.61     37500\n",
      "weighted avg       0.93      0.80      0.85     37500\n",
      "\n"
     ]
    }
   ],
   "source": [
    "print(classification_report(y_test_try2_numpy,y_predict_try2, target_names=target_names))"
   ]
  },
  {
   "cell_type": "markdown",
   "metadata": {},
   "source": [
    "Slight increase of 0.1 in the recall score of default compared to the previous model without gridsearch when using clustering to fill in the median method."
   ]
  },
  {
   "cell_type": "code",
   "execution_count": null,
   "metadata": {},
   "outputs": [],
   "source": []
  }
 ],
 "metadata": {
  "kernelspec": {
   "display_name": "pythonML",
   "language": "python",
   "name": "pythonml"
  },
  "language_info": {
   "codemirror_mode": {
    "name": "ipython",
    "version": 3
   },
   "file_extension": ".py",
   "mimetype": "text/x-python",
   "name": "python",
   "nbconvert_exporter": "python",
   "pygments_lexer": "ipython3",
   "version": "3.7.3"
  }
 },
 "nbformat": 4,
 "nbformat_minor": 2
}
